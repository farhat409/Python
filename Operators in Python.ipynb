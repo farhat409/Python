{
 "cells": [
  {
   "cell_type": "markdown",
   "id": "3d308e43",
   "metadata": {},
   "source": [
    "# Operators"
   ]
  },
  {
   "cell_type": "markdown",
   "id": "2ae3c963",
   "metadata": {},
   "source": [
    "Operators are used to perform operations on variables and values. Python has the following operators:\n",
    "\n",
    "    Arithmetic operators\n",
    "    Comparison operators\n",
    "    Logical operators\n",
    "    Bitwise operators\n",
    "    Assignment operators\n",
    "    Identity operators\n",
    "    Membership operators\n"
   ]
  },
  {
   "cell_type": "markdown",
   "id": "debdeb2f",
   "metadata": {},
   "source": [
    "# Arithmetic operators"
   ]
  },
  {
   "cell_type": "code",
   "execution_count": 1,
   "id": "350b4718",
   "metadata": {
    "ExecuteTime": {
     "end_time": "2022-06-03T06:44:03.919551Z",
     "start_time": "2022-06-03T06:44:03.909359Z"
    }
   },
   "outputs": [
    {
     "name": "stdout",
     "output_type": "stream",
     "text": [
      "7\n"
     ]
    }
   ],
   "source": [
    "x = 5\n",
    "y = 2\n",
    "\n",
    "print(x + y)"
   ]
  },
  {
   "cell_type": "code",
   "execution_count": 3,
   "id": "2afdf548",
   "metadata": {
    "ExecuteTime": {
     "end_time": "2022-06-03T06:44:15.882948Z",
     "start_time": "2022-06-03T06:44:15.876964Z"
    }
   },
   "outputs": [
    {
     "data": {
      "text/plain": [
       "3"
      ]
     },
     "execution_count": 3,
     "metadata": {},
     "output_type": "execute_result"
    }
   ],
   "source": [
    "x-y"
   ]
  },
  {
   "cell_type": "code",
   "execution_count": 4,
   "id": "0b3b617a",
   "metadata": {
    "ExecuteTime": {
     "end_time": "2022-06-03T06:44:23.933360Z",
     "start_time": "2022-06-03T06:44:23.924056Z"
    }
   },
   "outputs": [
    {
     "data": {
      "text/plain": [
       "10"
      ]
     },
     "execution_count": 4,
     "metadata": {},
     "output_type": "execute_result"
    }
   ],
   "source": [
    "x*y"
   ]
  },
  {
   "cell_type": "code",
   "execution_count": 5,
   "id": "ad3985e1",
   "metadata": {
    "ExecuteTime": {
     "end_time": "2022-06-03T06:44:29.828166Z",
     "start_time": "2022-06-03T06:44:29.820049Z"
    }
   },
   "outputs": [
    {
     "data": {
      "text/plain": [
       "2.5"
      ]
     },
     "execution_count": 5,
     "metadata": {},
     "output_type": "execute_result"
    }
   ],
   "source": [
    "x/y"
   ]
  },
  {
   "cell_type": "code",
   "execution_count": 6,
   "id": "218167cf",
   "metadata": {
    "ExecuteTime": {
     "end_time": "2022-06-03T06:44:34.449503Z",
     "start_time": "2022-06-03T06:44:34.432077Z"
    }
   },
   "outputs": [
    {
     "data": {
      "text/plain": [
       "25"
      ]
     },
     "execution_count": 6,
     "metadata": {},
     "output_type": "execute_result"
    }
   ],
   "source": [
    "x**y"
   ]
  },
  {
   "cell_type": "code",
   "execution_count": 7,
   "id": "bf836f8f",
   "metadata": {
    "ExecuteTime": {
     "end_time": "2022-06-03T06:44:38.776436Z",
     "start_time": "2022-06-03T06:44:38.760331Z"
    }
   },
   "outputs": [
    {
     "data": {
      "text/plain": [
       "2"
      ]
     },
     "execution_count": 7,
     "metadata": {},
     "output_type": "execute_result"
    }
   ],
   "source": [
    "x//y"
   ]
  },
  {
   "cell_type": "code",
   "execution_count": 8,
   "id": "a38563e8",
   "metadata": {
    "ExecuteTime": {
     "end_time": "2022-06-03T06:44:46.406677Z",
     "start_time": "2022-06-03T06:44:46.393265Z"
    }
   },
   "outputs": [
    {
     "data": {
      "text/plain": [
       "1"
      ]
     },
     "execution_count": 8,
     "metadata": {},
     "output_type": "execute_result"
    }
   ],
   "source": [
    "x%y"
   ]
  },
  {
   "cell_type": "markdown",
   "id": "35cb3b2e",
   "metadata": {},
   "source": [
    "# Comparison operators"
   ]
  },
  {
   "cell_type": "code",
   "execution_count": 9,
   "id": "eb2af77d",
   "metadata": {
    "ExecuteTime": {
     "end_time": "2022-06-03T06:45:34.751374Z",
     "start_time": "2022-06-03T06:45:34.735254Z"
    }
   },
   "outputs": [
    {
     "name": "stdout",
     "output_type": "stream",
     "text": [
      "True\n"
     ]
    }
   ],
   "source": [
    "print(x > y)"
   ]
  },
  {
   "cell_type": "code",
   "execution_count": 10,
   "id": "e04dbd2a",
   "metadata": {
    "ExecuteTime": {
     "end_time": "2022-06-03T06:45:39.618819Z",
     "start_time": "2022-06-03T06:45:39.613900Z"
    }
   },
   "outputs": [
    {
     "name": "stdout",
     "output_type": "stream",
     "text": [
      "False\n"
     ]
    }
   ],
   "source": [
    "print(x < y)"
   ]
  },
  {
   "cell_type": "code",
   "execution_count": 11,
   "id": "c4b79a54",
   "metadata": {
    "ExecuteTime": {
     "end_time": "2022-06-03T06:45:44.346376Z",
     "start_time": "2022-06-03T06:45:44.334973Z"
    }
   },
   "outputs": [
    {
     "name": "stdout",
     "output_type": "stream",
     "text": [
      "True\n"
     ]
    }
   ],
   "source": [
    "print(x >= y)"
   ]
  },
  {
   "cell_type": "code",
   "execution_count": 13,
   "id": "c147a335",
   "metadata": {
    "ExecuteTime": {
     "end_time": "2022-06-03T06:45:57.665181Z",
     "start_time": "2022-06-03T06:45:57.655257Z"
    }
   },
   "outputs": [
    {
     "name": "stdout",
     "output_type": "stream",
     "text": [
      "False\n"
     ]
    }
   ],
   "source": [
    "print(x <= y)"
   ]
  },
  {
   "cell_type": "code",
   "execution_count": 14,
   "id": "a2751636",
   "metadata": {
    "ExecuteTime": {
     "end_time": "2022-06-03T06:46:04.026536Z",
     "start_time": "2022-06-03T06:46:04.016432Z"
    }
   },
   "outputs": [
    {
     "name": "stdout",
     "output_type": "stream",
     "text": [
      "False\n"
     ]
    }
   ],
   "source": [
    "print(x == y)"
   ]
  },
  {
   "cell_type": "code",
   "execution_count": 16,
   "id": "79f3b719",
   "metadata": {
    "ExecuteTime": {
     "end_time": "2022-06-03T06:46:14.786330Z",
     "start_time": "2022-06-03T06:46:14.777113Z"
    }
   },
   "outputs": [
    {
     "name": "stdout",
     "output_type": "stream",
     "text": [
      "True\n"
     ]
    }
   ],
   "source": [
    "print(x != y)"
   ]
  },
  {
   "cell_type": "markdown",
   "id": "471841aa",
   "metadata": {},
   "source": [
    "# Logical Operators"
   ]
  },
  {
   "cell_type": "code",
   "execution_count": 17,
   "id": "fc2c630a",
   "metadata": {
    "ExecuteTime": {
     "end_time": "2022-06-03T06:46:35.759875Z",
     "start_time": "2022-06-03T06:46:35.743805Z"
    }
   },
   "outputs": [
    {
     "name": "stdout",
     "output_type": "stream",
     "text": [
      "True\n"
     ]
    }
   ],
   "source": [
    "x =True\n",
    "y = False\n",
    "\n",
    "print(x or y)"
   ]
  },
  {
   "cell_type": "code",
   "execution_count": 18,
   "id": "5907f622",
   "metadata": {
    "ExecuteTime": {
     "end_time": "2022-06-03T06:46:41.112844Z",
     "start_time": "2022-06-03T06:46:41.105863Z"
    }
   },
   "outputs": [
    {
     "name": "stdout",
     "output_type": "stream",
     "text": [
      "False\n"
     ]
    }
   ],
   "source": [
    "print(x and y)"
   ]
  },
  {
   "cell_type": "code",
   "execution_count": 19,
   "id": "1ee4e6b9",
   "metadata": {
    "ExecuteTime": {
     "end_time": "2022-06-03T06:46:45.740041Z",
     "start_time": "2022-06-03T06:46:45.727658Z"
    }
   },
   "outputs": [
    {
     "name": "stdout",
     "output_type": "stream",
     "text": [
      "True\n"
     ]
    }
   ],
   "source": [
    "print(not y)"
   ]
  },
  {
   "cell_type": "markdown",
   "id": "fee371dd",
   "metadata": {},
   "source": [
    "# Assignment operators"
   ]
  },
  {
   "cell_type": "code",
   "execution_count": 20,
   "id": "fe6809db",
   "metadata": {
    "ExecuteTime": {
     "end_time": "2022-06-03T08:21:46.501218Z",
     "start_time": "2022-06-03T08:21:46.495924Z"
    }
   },
   "outputs": [
    {
     "name": "stdout",
     "output_type": "stream",
     "text": [
      "3\n"
     ]
    }
   ],
   "source": [
    "a = 3\n",
    "print(a)"
   ]
  },
  {
   "cell_type": "code",
   "execution_count": 21,
   "id": "8e583395",
   "metadata": {
    "ExecuteTime": {
     "end_time": "2022-06-03T08:21:54.569266Z",
     "start_time": "2022-06-03T08:21:54.564043Z"
    }
   },
   "outputs": [
    {
     "name": "stdout",
     "output_type": "stream",
     "text": [
      "6\n"
     ]
    }
   ],
   "source": [
    "a += 3\n",
    "# a = a + 3\n",
    "print(a)"
   ]
  },
  {
   "cell_type": "code",
   "execution_count": 22,
   "id": "2d51e07e",
   "metadata": {
    "ExecuteTime": {
     "end_time": "2022-06-03T08:22:06.425055Z",
     "start_time": "2022-06-03T08:22:06.413227Z"
    }
   },
   "outputs": [],
   "source": [
    "a -= 3\n",
    "a *= 3\n",
    "a &= 3"
   ]
  },
  {
   "cell_type": "code",
   "execution_count": 23,
   "id": "bff9678c",
   "metadata": {
    "ExecuteTime": {
     "end_time": "2022-06-03T08:22:15.835429Z",
     "start_time": "2022-06-03T08:22:15.827401Z"
    }
   },
   "outputs": [
    {
     "ename": "SyntaxError",
     "evalue": "invalid syntax (<ipython-input-23-eb1e8ffb1845>, line 1)",
     "output_type": "error",
     "traceback": [
      "\u001b[1;36m  File \u001b[1;32m\"<ipython-input-23-eb1e8ffb1845>\"\u001b[1;36m, line \u001b[1;32m1\u001b[0m\n\u001b[1;33m    a++\u001b[0m\n\u001b[1;37m       ^\u001b[0m\n\u001b[1;31mSyntaxError\u001b[0m\u001b[1;31m:\u001b[0m invalid syntax\n"
     ]
    }
   ],
   "source": [
    "a++\n",
    "++a## python doesnt have increment like +++"
   ]
  },
  {
   "cell_type": "code",
   "execution_count": 24,
   "id": "010a599c",
   "metadata": {
    "ExecuteTime": {
     "end_time": "2022-06-03T08:22:42.785183Z",
     "start_time": "2022-06-03T08:22:42.769324Z"
    }
   },
   "outputs": [],
   "source": [
    "a = a + 3"
   ]
  },
  {
   "cell_type": "code",
   "execution_count": 25,
   "id": "60ff773d",
   "metadata": {
    "ExecuteTime": {
     "end_time": "2022-06-03T08:22:46.092245Z",
     "start_time": "2022-06-03T08:22:46.080266Z"
    }
   },
   "outputs": [
    {
     "data": {
      "text/plain": [
       "4"
      ]
     },
     "execution_count": 25,
     "metadata": {},
     "output_type": "execute_result"
    }
   ],
   "source": [
    "a"
   ]
  },
  {
   "cell_type": "code",
   "execution_count": 26,
   "id": "fbf0850c",
   "metadata": {
    "ExecuteTime": {
     "end_time": "2022-06-03T08:22:58.352162Z",
     "start_time": "2022-06-03T08:22:58.348766Z"
    }
   },
   "outputs": [],
   "source": [
    "a += 3"
   ]
  },
  {
   "cell_type": "code",
   "execution_count": 27,
   "id": "ded924cd",
   "metadata": {
    "ExecuteTime": {
     "end_time": "2022-06-03T08:23:02.491500Z",
     "start_time": "2022-06-03T08:23:02.481845Z"
    }
   },
   "outputs": [
    {
     "data": {
      "text/plain": [
       "7"
      ]
     },
     "execution_count": 27,
     "metadata": {},
     "output_type": "execute_result"
    }
   ],
   "source": [
    "a"
   ]
  },
  {
   "cell_type": "markdown",
   "id": "761759b7",
   "metadata": {},
   "source": [
    "# Identity operators"
   ]
  },
  {
   "cell_type": "markdown",
   "id": "45e83356",
   "metadata": {},
   "source": [
    "its check wheather 3 valriables are at same location or not"
   ]
  },
  {
   "cell_type": "code",
   "execution_count": 28,
   "id": "ce2d1832",
   "metadata": {
    "ExecuteTime": {
     "end_time": "2022-06-03T08:28:57.590879Z",
     "start_time": "2022-06-03T08:28:57.579585Z"
    }
   },
   "outputs": [
    {
     "name": "stdout",
     "output_type": "stream",
     "text": [
      "True\n"
     ]
    }
   ],
   "source": [
    "a = 3\n",
    "b = 3\n",
    "\n",
    "print(a is b)"
   ]
  },
  {
   "cell_type": "code",
   "execution_count": 29,
   "id": "1e7fc58d",
   "metadata": {
    "ExecuteTime": {
     "end_time": "2022-06-03T08:29:09.577767Z",
     "start_time": "2022-06-03T08:29:09.568764Z"
    }
   },
   "outputs": [
    {
     "name": "stdout",
     "output_type": "stream",
     "text": [
      "True\n"
     ]
    }
   ],
   "source": [
    "a = \"Hello\"\n",
    "b = \"Hello\"\n",
    "\n",
    "print(a is b)"
   ]
  },
  {
   "cell_type": "code",
   "execution_count": 30,
   "id": "674dfd7e",
   "metadata": {
    "ExecuteTime": {
     "end_time": "2022-06-03T08:29:16.790740Z",
     "start_time": "2022-06-03T08:29:16.777953Z"
    }
   },
   "outputs": [
    {
     "name": "stdout",
     "output_type": "stream",
     "text": [
      "False\n"
     ]
    }
   ],
   "source": [
    "a = [1,2,3]\n",
    "b = [1,2,3]\n",
    "\n",
    "print(a is b)"
   ]
  },
  {
   "cell_type": "code",
   "execution_count": 31,
   "id": "f4c57d96",
   "metadata": {
    "ExecuteTime": {
     "end_time": "2022-06-03T08:29:23.886491Z",
     "start_time": "2022-06-03T08:29:23.872050Z"
    }
   },
   "outputs": [
    {
     "name": "stdout",
     "output_type": "stream",
     "text": [
      "True\n"
     ]
    }
   ],
   "source": [
    "a = \"Hello-world\"\n",
    "b = \"Hello-world\"\n",
    "\n",
    "print(a is not b)"
   ]
  },
  {
   "cell_type": "markdown",
   "id": "ccc441d8",
   "metadata": {},
   "source": [
    "# Membership operators"
   ]
  },
  {
   "cell_type": "markdown",
   "id": "f6cf07c9",
   "metadata": {},
   "source": [
    "Membership operators are operators used to validate the whether the value is in it or not\n",
    "Applicable on set dictnory List"
   ]
  },
  {
   "cell_type": "code",
   "execution_count": 32,
   "id": "8823b6db",
   "metadata": {
    "ExecuteTime": {
     "end_time": "2022-06-03T08:32:43.601962Z",
     "start_time": "2022-06-03T08:32:43.582982Z"
    }
   },
   "outputs": [
    {
     "name": "stdout",
     "output_type": "stream",
     "text": [
      "False\n"
     ]
    }
   ],
   "source": [
    "x = \"Delhi\"\n",
    "\n",
    "print(\"D\" not in x)"
   ]
  },
  {
   "cell_type": "code",
   "execution_count": 33,
   "id": "77a8e263",
   "metadata": {
    "ExecuteTime": {
     "end_time": "2022-06-03T08:32:52.055047Z",
     "start_time": "2022-06-03T08:32:52.051000Z"
    }
   },
   "outputs": [
    {
     "name": "stdout",
     "output_type": "stream",
     "text": [
      "False\n"
     ]
    }
   ],
   "source": [
    "x = (1,2,3)\n",
    "print(5 in x)"
   ]
  },
  {
   "cell_type": "code",
   "execution_count": 34,
   "id": "8189e062",
   "metadata": {
    "ExecuteTime": {
     "end_time": "2022-06-03T08:33:05.862506Z",
     "start_time": "2022-06-03T08:33:05.852075Z"
    }
   },
   "outputs": [
    {
     "name": "stdout",
     "output_type": "stream",
     "text": [
      "True\n"
     ]
    }
   ],
   "source": [
    "x = [1,2,3]\n",
    "print(2 in x)"
   ]
  },
  {
   "cell_type": "code",
   "execution_count": null,
   "id": "c1080a4c",
   "metadata": {},
   "outputs": [],
   "source": []
  }
 ],
 "metadata": {
  "kernelspec": {
   "display_name": "Python 3",
   "language": "python",
   "name": "python3"
  },
  "language_info": {
   "codemirror_mode": {
    "name": "ipython",
    "version": 3
   },
   "file_extension": ".py",
   "mimetype": "text/x-python",
   "name": "python",
   "nbconvert_exporter": "python",
   "pygments_lexer": "ipython3",
   "version": "3.8.8"
  }
 },
 "nbformat": 4,
 "nbformat_minor": 5
}
