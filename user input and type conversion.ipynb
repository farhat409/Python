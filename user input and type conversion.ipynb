{
 "cells": [
  {
   "cell_type": "code",
   "execution_count": 5,
   "id": "3e19eef5",
   "metadata": {
    "ExecuteTime": {
     "end_time": "2022-06-03T05:29:32.344654Z",
     "start_time": "2022-06-03T05:29:28.824291Z"
    }
   },
   "outputs": [
    {
     "name": "stdout",
     "output_type": "stream",
     "text": [
      "tell me your namefarhat\n"
     ]
    },
    {
     "data": {
      "text/plain": [
       "'farhat'"
      ]
     },
     "execution_count": 5,
     "metadata": {},
     "output_type": "execute_result"
    }
   ],
   "source": [
    "input(\"tell me your name\")"
   ]
  },
  {
   "cell_type": "code",
   "execution_count": 6,
   "id": "55a174d3",
   "metadata": {
    "ExecuteTime": {
     "end_time": "2022-06-03T05:30:19.345261Z",
     "start_time": "2022-06-03T05:30:15.556732Z"
    }
   },
   "outputs": [
    {
     "name": "stdout",
     "output_type": "stream",
     "text": [
      "enter first number34\n",
      "enter second number56\n"
     ]
    }
   ],
   "source": [
    "f_n = input(\"enter first number\")\n",
    "s_n = input(\"enter second number\")"
   ]
  },
  {
   "cell_type": "code",
   "execution_count": 7,
   "id": "e94677ea",
   "metadata": {
    "ExecuteTime": {
     "end_time": "2022-06-03T05:30:37.449566Z",
     "start_time": "2022-06-03T05:30:37.432848Z"
    }
   },
   "outputs": [
    {
     "name": "stdout",
     "output_type": "stream",
     "text": [
      "34\n",
      "56\n"
     ]
    }
   ],
   "source": [
    "print(f_n)\n",
    "print(s_n)"
   ]
  },
  {
   "cell_type": "code",
   "execution_count": 9,
   "id": "788e9894",
   "metadata": {
    "ExecuteTime": {
     "end_time": "2022-06-03T05:31:38.112782Z",
     "start_time": "2022-06-03T05:31:38.096826Z"
    }
   },
   "outputs": [
    {
     "data": {
      "text/plain": [
       "'3456'"
      ]
     },
     "execution_count": 9,
     "metadata": {},
     "output_type": "execute_result"
    }
   ],
   "source": [
    "output = (f_n + s_n)\n",
    "output"
   ]
  },
  {
   "cell_type": "markdown",
   "id": "20be0928",
   "metadata": {},
   "source": [
    "property of input function = when ever user is giving input from \"input function\" that input function comes like string function to the programmer...'3456' here why python take as string becuse string is a universal data type which hold other data type\n"
   ]
  },
  {
   "cell_type": "code",
   "execution_count": 11,
   "id": "8cc949ce",
   "metadata": {
    "ExecuteTime": {
     "end_time": "2022-06-03T05:37:27.602767Z",
     "start_time": "2022-06-03T05:37:27.591764Z"
    }
   },
   "outputs": [
    {
     "data": {
      "text/plain": [
       "str"
      ]
     },
     "execution_count": 11,
     "metadata": {},
     "output_type": "execute_result"
    }
   ],
   "source": [
    "type(f_n)"
   ]
  },
  {
   "cell_type": "markdown",
   "id": "956e5fe4",
   "metadata": {},
   "source": [
    "# Type conversion"
   ]
  },
  {
   "cell_type": "markdown",
   "id": "a446629d",
   "metadata": {},
   "source": [
    "1. Implicit- when python do automatically type converion programmer dont need to specifiy\n",
    "2. Explicit- when programer have to tell python on this point do the type conversion"
   ]
  },
  {
   "cell_type": "code",
   "execution_count": 12,
   "id": "8aad46f1",
   "metadata": {
    "ExecuteTime": {
     "end_time": "2022-06-03T06:08:59.187927Z",
     "start_time": "2022-06-03T06:08:59.179535Z"
    }
   },
   "outputs": [
    {
     "data": {
      "text/plain": [
       "4"
      ]
     },
     "execution_count": 12,
     "metadata": {},
     "output_type": "execute_result"
    }
   ],
   "source": [
    "int(4)"
   ]
  },
  {
   "cell_type": "code",
   "execution_count": 13,
   "id": "7ff3fd70",
   "metadata": {
    "ExecuteTime": {
     "end_time": "2022-06-03T06:09:05.446964Z",
     "start_time": "2022-06-03T06:09:05.431969Z"
    }
   },
   "outputs": [
    {
     "data": {
      "text/plain": [
       "False"
      ]
     },
     "execution_count": 13,
     "metadata": {},
     "output_type": "execute_result"
    }
   ],
   "source": [
    "bool(0)"
   ]
  },
  {
   "cell_type": "code",
   "execution_count": 14,
   "id": "df96e17f",
   "metadata": {
    "ExecuteTime": {
     "end_time": "2022-06-03T06:09:19.225498Z",
     "start_time": "2022-06-03T06:09:19.220512Z"
    }
   },
   "outputs": [
    {
     "data": {
      "text/plain": [
       "(9+0j)"
      ]
     },
     "execution_count": 14,
     "metadata": {},
     "output_type": "execute_result"
    }
   ],
   "source": [
    "complex(9)"
   ]
  },
  {
   "cell_type": "code",
   "execution_count": 16,
   "id": "299f8e91",
   "metadata": {
    "ExecuteTime": {
     "end_time": "2022-06-03T06:09:39.368884Z",
     "start_time": "2022-06-03T06:09:39.362898Z"
    }
   },
   "outputs": [
    {
     "data": {
      "text/plain": [
       "['h', 'e', 'l', 'l', 'o']"
      ]
     },
     "execution_count": 16,
     "metadata": {},
     "output_type": "execute_result"
    }
   ],
   "source": [
    "list(\"hello\")"
   ]
  },
  {
   "cell_type": "code",
   "execution_count": 18,
   "id": "378fed99",
   "metadata": {
    "ExecuteTime": {
     "end_time": "2022-06-03T06:10:56.357292Z",
     "start_time": "2022-06-03T06:10:52.578424Z"
    }
   },
   "outputs": [
    {
     "name": "stdout",
     "output_type": "stream",
     "text": [
      "enter first number23\n",
      "enter second number10\n",
      "33\n"
     ]
    }
   ],
   "source": [
    "f_n = input(\"enter first number\")\n",
    "s_n = input(\"enter second number\")\n",
    "\n",
    "result = int(f_n )+ int(s_n)\n",
    "print(result)"
   ]
  },
  {
   "cell_type": "code",
   "execution_count": null,
   "id": "676c5232",
   "metadata": {},
   "outputs": [],
   "source": []
  }
 ],
 "metadata": {
  "kernelspec": {
   "display_name": "Python 3",
   "language": "python",
   "name": "python3"
  },
  "language_info": {
   "codemirror_mode": {
    "name": "ipython",
    "version": 3
   },
   "file_extension": ".py",
   "mimetype": "text/x-python",
   "name": "python",
   "nbconvert_exporter": "python",
   "pygments_lexer": "ipython3",
   "version": "3.8.8"
  }
 },
 "nbformat": 4,
 "nbformat_minor": 5
}
