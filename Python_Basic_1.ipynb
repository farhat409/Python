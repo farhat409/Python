{
 "cells": [
  {
   "cell_type": "code",
   "execution_count": 1,
   "id": "0177e8ec",
   "metadata": {
    "ExecuteTime": {
     "end_time": "2022-05-07T06:16:04.516243Z",
     "start_time": "2022-05-07T06:16:04.498292Z"
    }
   },
   "outputs": [
    {
     "name": "stdout",
     "output_type": "stream",
     "text": [
      "Hello World\n"
     ]
    }
   ],
   "source": [
    "print(\"Hello World\")"
   ]
  },
  {
   "cell_type": "code",
   "execution_count": 2,
   "id": "417b5c65",
   "metadata": {
    "ExecuteTime": {
     "end_time": "2022-05-07T06:16:15.246654Z",
     "start_time": "2022-05-07T06:16:15.231608Z"
    }
   },
   "outputs": [
    {
     "name": "stdout",
     "output_type": "stream",
     "text": [
      "6\n"
     ]
    }
   ],
   "source": [
    "print(6)"
   ]
  },
  {
   "cell_type": "code",
   "execution_count": 3,
   "id": "3d57d604",
   "metadata": {
    "ExecuteTime": {
     "end_time": "2022-05-07T06:16:22.893575Z",
     "start_time": "2022-05-07T06:16:22.877693Z"
    }
   },
   "outputs": [
    {
     "name": "stdout",
     "output_type": "stream",
     "text": [
      "True\n"
     ]
    }
   ],
   "source": [
    "print(True)"
   ]
  },
  {
   "cell_type": "code",
   "execution_count": 4,
   "id": "40b3f5a2",
   "metadata": {
    "ExecuteTime": {
     "end_time": "2022-05-07T06:17:44.405503Z",
     "start_time": "2022-05-07T06:17:44.386651Z"
    }
   },
   "outputs": [
    {
     "name": "stdout",
     "output_type": "stream",
     "text": [
      "India Pakistan Nepal Srilaknka\n"
     ]
    }
   ],
   "source": [
    "print(\"India\",\"Pakistan\",\"Nepal\",\"Srilaknka\")# printing More than 1 "
   ]
  },
  {
   "cell_type": "code",
   "execution_count": 5,
   "id": "d72c1564",
   "metadata": {
    "ExecuteTime": {
     "end_time": "2022-05-07T06:18:40.862649Z",
     "start_time": "2022-05-07T06:18:40.846661Z"
    }
   },
   "outputs": [
    {
     "name": "stdout",
     "output_type": "stream",
     "text": [
      "Farhat 4 True\n"
     ]
    }
   ],
   "source": [
    "print(\"Farhat\",4,True)#printing diffrent Data types"
   ]
  },
  {
   "cell_type": "code",
   "execution_count": 6,
   "id": "007646b9",
   "metadata": {
    "ExecuteTime": {
     "end_time": "2022-05-07T06:21:23.809345Z",
     "start_time": "2022-05-07T06:21:23.797350Z"
    }
   },
   "outputs": [
    {
     "name": "stdout",
     "output_type": "stream",
     "text": [
      "India/Pakistan/Nepal/Srilaknka\n"
     ]
    }
   ],
   "source": [
    "print(\"India\",\"Pakistan\",\"Nepal\",\"Srilaknka\",sep='/') # changing the seprator Parameter"
   ]
  },
  {
   "cell_type": "code",
   "execution_count": 8,
   "id": "f253acbf",
   "metadata": {
    "ExecuteTime": {
     "end_time": "2022-05-07T06:23:07.402868Z",
     "start_time": "2022-05-07T06:23:07.382879Z"
    }
   },
   "outputs": [
    {
     "name": "stdout",
     "output_type": "stream",
     "text": [
      "Hello\n",
      "world\n"
     ]
    }
   ],
   "source": [
    "print(\"Hello\")\n",
    "print(\"world\")"
   ]
  },
  {
   "cell_type": "code",
   "execution_count": 10,
   "id": "cb6dbf2c",
   "metadata": {
    "ExecuteTime": {
     "end_time": "2022-05-07T06:23:41.295316Z",
     "start_time": "2022-05-07T06:23:41.275287Z"
    }
   },
   "outputs": [
    {
     "name": "stdout",
     "output_type": "stream",
     "text": [
      "hello world\n"
     ]
    }
   ],
   "source": [
    "print(\"hello\",end = ' ')\n",
    "print(\"world\")"
   ]
  },
  {
   "cell_type": "code",
   "execution_count": null,
   "id": "a6c1a5a2",
   "metadata": {},
   "outputs": [],
   "source": []
  }
 ],
 "metadata": {
  "kernelspec": {
   "display_name": "Python 3",
   "language": "python",
   "name": "python3"
  },
  "language_info": {
   "codemirror_mode": {
    "name": "ipython",
    "version": 3
   },
   "file_extension": ".py",
   "mimetype": "text/x-python",
   "name": "python",
   "nbconvert_exporter": "python",
   "pygments_lexer": "ipython3",
   "version": "3.8.8"
  }
 },
 "nbformat": 4,
 "nbformat_minor": 5
}
