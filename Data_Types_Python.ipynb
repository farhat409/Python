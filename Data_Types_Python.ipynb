{
 "cells": [
  {
   "cell_type": "markdown",
   "id": "0351a382",
   "metadata": {},
   "source": [
    "# \n",
    "Python supports 3 categories of data types:\n",
    "\n",
    "    Basic Types - (integer,float,complex,boolean and string)\n",
    "    Container Types - (List,Tuples, Sets and Dictionary)\n",
    "    User-defined Types - Class\n"
   ]
  },
  {
   "cell_type": "code",
   "execution_count": 1,
   "id": "bf05f426",
   "metadata": {
    "ExecuteTime": {
     "end_time": "2022-05-07T06:31:36.658364Z",
     "start_time": "2022-05-07T06:31:36.638419Z"
    }
   },
   "outputs": [
    {
     "name": "stdout",
     "output_type": "stream",
     "text": [
      "4\n",
      "inf\n"
     ]
    }
   ],
   "source": [
    "# integer\n",
    "print(4)\n",
    "print(1e309)"
   ]
  },
  {
   "cell_type": "code",
   "execution_count": 2,
   "id": "1728c9f7",
   "metadata": {
    "ExecuteTime": {
     "end_time": "2022-05-07T06:31:42.056480Z",
     "start_time": "2022-05-07T06:31:42.049472Z"
    }
   },
   "outputs": [
    {
     "name": "stdout",
     "output_type": "stream",
     "text": [
      "4.5\n",
      "1.7e+308\n"
     ]
    }
   ],
   "source": [
    "# float\n",
    "print(4.5)\n",
    "print(1.7e308)"
   ]
  },
  {
   "cell_type": "code",
   "execution_count": 3,
   "id": "9cfe8723",
   "metadata": {
    "ExecuteTime": {
     "end_time": "2022-05-07T06:31:47.990794Z",
     "start_time": "2022-05-07T06:31:47.981819Z"
    }
   },
   "outputs": [
    {
     "name": "stdout",
     "output_type": "stream",
     "text": [
      "True\n",
      "False\n"
     ]
    }
   ],
   "source": [
    "# boolean\n",
    "print(True)\n",
    "print(False)"
   ]
  },
  {
   "cell_type": "code",
   "execution_count": 5,
   "id": "e41c32a8",
   "metadata": {
    "ExecuteTime": {
     "end_time": "2022-05-07T06:32:15.552769Z",
     "start_time": "2022-05-07T06:32:15.545790Z"
    }
   },
   "outputs": [
    {
     "name": "stdout",
     "output_type": "stream",
     "text": [
      "Kolkata\n",
      "Kolkata\n",
      "Kolkata\n"
     ]
    }
   ],
   "source": [
    "# string\n",
    "print('Kolkata')\n",
    "print(\"Kolkata\")\n",
    "print(\"\"\"Kolkata\"\"\")"
   ]
  },
  {
   "cell_type": "code",
   "execution_count": 6,
   "id": "bf7594d0",
   "metadata": {
    "ExecuteTime": {
     "end_time": "2022-05-07T06:32:22.820364Z",
     "start_time": "2022-05-07T06:32:22.810361Z"
    }
   },
   "outputs": [
    {
     "name": "stdout",
     "output_type": "stream",
     "text": [
      "[1, 2, 3, 4, 5]\n"
     ]
    }
   ],
   "source": [
    "# list\n",
    "print([1,2,3,4,5])# using Square bracket"
   ]
  },
  {
   "cell_type": "code",
   "execution_count": 7,
   "id": "eb149d6a",
   "metadata": {
    "ExecuteTime": {
     "end_time": "2022-05-07T06:32:30.851076Z",
     "start_time": "2022-05-07T06:32:30.842101Z"
    }
   },
   "outputs": [
    {
     "name": "stdout",
     "output_type": "stream",
     "text": [
      "(1, 2, 3, 4, 5)\n"
     ]
    }
   ],
   "source": [
    "# tuple\n",
    "print((1,2,3,4,5))# using small bracket"
   ]
  },
  {
   "cell_type": "code",
   "execution_count": 8,
   "id": "c8b58e44",
   "metadata": {
    "ExecuteTime": {
     "end_time": "2022-05-07T06:32:37.628899Z",
     "start_time": "2022-05-07T06:32:37.611801Z"
    }
   },
   "outputs": [
    {
     "name": "stdout",
     "output_type": "stream",
     "text": [
      "{1, 2, 3, 4, 5}\n"
     ]
    }
   ],
   "source": [
    "#sets\n",
    "print({1,2,3,4,5})#uisng Curly Bracket"
   ]
  },
  {
   "cell_type": "code",
   "execution_count": 9,
   "id": "a921d1bb",
   "metadata": {
    "ExecuteTime": {
     "end_time": "2022-05-07T06:32:46.855283Z",
     "start_time": "2022-05-07T06:32:46.842287Z"
    }
   },
   "outputs": [
    {
     "name": "stdout",
     "output_type": "stream",
     "text": [
      "{'Name': 'Nitish', 'Age': 30, 'gender': 'Male'}\n"
     ]
    }
   ],
   "source": [
    "# dict\n",
    "print({\"Name\":\"Nitish\",\"Age\":30,\"gender\":\"Male\"})# making key value pair"
   ]
  },
  {
   "cell_type": "code",
   "execution_count": null,
   "id": "48fa4301",
   "metadata": {},
   "outputs": [],
   "source": []
  }
 ],
 "metadata": {
  "kernelspec": {
   "display_name": "Python 3",
   "language": "python",
   "name": "python3"
  },
  "language_info": {
   "codemirror_mode": {
    "name": "ipython",
    "version": 3
   },
   "file_extension": ".py",
   "mimetype": "text/x-python",
   "name": "python",
   "nbconvert_exporter": "python",
   "pygments_lexer": "ipython3",
   "version": "3.8.8"
  }
 },
 "nbformat": 4,
 "nbformat_minor": 5
}
