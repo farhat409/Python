{
 "cells": [
  {
   "cell_type": "raw",
   "id": "ac90dbf8",
   "metadata": {},
   "source": [
    "Break statment : suppose one loop is going on and if we give break statment at a specific condition it will terminate the loop\n",
    "\n",
    "break used at liner searching"
   ]
  },
  {
   "cell_type": "code",
   "execution_count": 4,
   "id": "ff056020",
   "metadata": {
    "ExecuteTime": {
     "end_time": "2022-06-08T17:48:41.399880Z",
     "start_time": "2022-06-08T17:48:41.386730Z"
    },
    "scrolled": true
   },
   "outputs": [
    {
     "name": "stdout",
     "output_type": "stream",
     "text": [
      "1\n",
      "2\n",
      "3\n",
      "4\n",
      "5\n",
      "6\n",
      "7\n",
      "8\n"
     ]
    }
   ],
   "source": [
    "for i in range(1,11):\n",
    "    if i == 9:\n",
    "        break\n",
    "    print(i)    "
   ]
  },
  {
   "cell_type": "markdown",
   "id": "fae21ee4",
   "metadata": {},
   "source": [
    "# Continue"
   ]
  },
  {
   "cell_type": "raw",
   "id": "78cd5b29",
   "metadata": {},
   "source": [
    "Continue Statment: when the particular statment meet the condtion that particular code of line  in the loop that code will not exceute\n",
    "\n",
    "Below Example when its coming to 9 its skip the line exceution thats y in output 9 is not there\n",
    "\n",
    "\n",
    "example of contine when we are deploping ecommerce platform that time we can use continue to show the produts which are in stocks"
   ]
  },
  {
   "cell_type": "code",
   "execution_count": 5,
   "id": "54aae8ac",
   "metadata": {
    "ExecuteTime": {
     "end_time": "2022-06-08T17:55:05.832116Z",
     "start_time": "2022-06-08T17:55:05.825136Z"
    }
   },
   "outputs": [
    {
     "name": "stdout",
     "output_type": "stream",
     "text": [
      "1\n",
      "2\n",
      "3\n",
      "4\n",
      "5\n",
      "6\n",
      "7\n",
      "8\n",
      "10\n"
     ]
    }
   ],
   "source": [
    "for i in range(1,11):\n",
    "    if i == 9:\n",
    "        continue\n",
    "    print(i)   "
   ]
  },
  {
   "cell_type": "markdown",
   "id": "0c375e5f",
   "metadata": {},
   "source": [
    "# Pass"
   ]
  },
  {
   "cell_type": "markdown",
   "id": "b8411afa",
   "metadata": {},
   "source": [
    "Pass is used for to skip that part of code its like stop and again u can come and continue the code"
   ]
  },
  {
   "cell_type": "code",
   "execution_count": 6,
   "id": "44d7ec4f",
   "metadata": {
    "ExecuteTime": {
     "end_time": "2022-06-08T18:01:52.829765Z",
     "start_time": "2022-06-08T18:01:52.818698Z"
    }
   },
   "outputs": [],
   "source": [
    "for i in range(1,45):\n",
    "    pass"
   ]
  },
  {
   "cell_type": "code",
   "execution_count": null,
   "id": "c038214f",
   "metadata": {},
   "outputs": [],
   "source": []
  }
 ],
 "metadata": {
  "kernelspec": {
   "display_name": "Python 3",
   "language": "python",
   "name": "python3"
  },
  "language_info": {
   "codemirror_mode": {
    "name": "ipython",
    "version": 3
   },
   "file_extension": ".py",
   "mimetype": "text/x-python",
   "name": "python",
   "nbconvert_exporter": "python",
   "pygments_lexer": "ipython3",
   "version": "3.8.8"
  }
 },
 "nbformat": 4,
 "nbformat_minor": 5
}
