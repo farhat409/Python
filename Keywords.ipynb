{
 "cells": [
  {
   "cell_type": "markdown",
   "id": "eef1d731",
   "metadata": {},
   "source": [
    "# Keywords\n",
    "\n",
    "    "
   ]
  },
  {
   "cell_type": "markdown",
   "id": "21f146b1",
   "metadata": {},
   "source": [
    "Python is a case sensitive programming language\n",
    "\n",
    "In programming, a keyword is a word that is reserved by a program because the word has a special meaning. Keywords can be commands or parameters. Every programming language has a set of keywords that cannot be used as variable names\n"
   ]
  },
  {
   "cell_type": "code",
   "execution_count": 1,
   "id": "c75c3a78",
   "metadata": {
    "ExecuteTime": {
     "end_time": "2022-05-07T07:19:37.768449Z",
     "start_time": "2022-05-07T07:19:37.749283Z"
    }
   },
   "outputs": [
    {
     "name": "stdout",
     "output_type": "stream",
     "text": [
      "['False', 'None', 'True', 'and', 'as', 'assert', 'async', 'await', 'break', 'class', 'continue', 'def', 'del', 'elif', 'else', 'except', 'finally', 'for', 'from', 'global', 'if', 'import', 'in', 'is', 'lambda', 'nonlocal', 'not', 'or', 'pass', 'raise', 'return', 'try', 'while', 'with', 'yield']\n"
     ]
    }
   ],
   "source": [
    "# python has 33 keywords\n",
    "import keyword\n",
    "print(keyword.kwlist)"
   ]
  },
  {
   "cell_type": "markdown",
   "id": "6705e177",
   "metadata": {},
   "source": [
    "# Identifiers"
   ]
  },
  {
   "cell_type": "markdown",
   "id": "390d184a",
   "metadata": {},
   "source": [
    "A Python identifier is a name used to identify a variable, function, class, module or other object.\n",
    "Rules for setting Identifiers\n",
    "\n",
    "    can only start with an alphabet or _\n",
    "    Followed by 0 or more letter,_ and digits\n",
    "    keywords cannot be used as an identifiers\n",
    "\n"
   ]
  },
  {
   "cell_type": "code",
   "execution_count": null,
   "id": "7845b80e",
   "metadata": {},
   "outputs": [],
   "source": []
  }
 ],
 "metadata": {
  "kernelspec": {
   "display_name": "Python 3",
   "language": "python",
   "name": "python3"
  },
  "language_info": {
   "codemirror_mode": {
    "name": "ipython",
    "version": 3
   },
   "file_extension": ".py",
   "mimetype": "text/x-python",
   "name": "python",
   "nbconvert_exporter": "python",
   "pygments_lexer": "ipython3",
   "version": "3.8.8"
  }
 },
 "nbformat": 4,
 "nbformat_minor": 5
}
