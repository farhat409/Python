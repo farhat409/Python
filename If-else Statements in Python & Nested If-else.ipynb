{
 "cells": [
  {
   "cell_type": "markdown",
   "id": "21e5f69d",
   "metadata": {},
   "source": [
    "# Decison Control"
   ]
  },
  {
   "cell_type": "markdown",
   "id": "8d59569b",
   "metadata": {},
   "source": [
    "It decides whether certain statements need to be executed or not. \n",
    "It checks for a given condition, if the condition is true, then the set of code present inside the ” if ” \n",
    "block will be executed otherwise not"
   ]
  },
  {
   "cell_type": "code",
   "execution_count": 1,
   "id": "017b32ab",
   "metadata": {
    "ExecuteTime": {
     "end_time": "2022-06-06T15:08:48.674930Z",
     "start_time": "2022-06-06T15:08:48.658713Z"
    }
   },
   "outputs": [],
   "source": [
    "#correct email is data@1234\n",
    "#passwor is qwert"
   ]
  },
  {
   "cell_type": "code",
   "execution_count": 8,
   "id": "104e1e45",
   "metadata": {
    "ExecuteTime": {
     "end_time": "2022-06-06T15:15:12.840638Z",
     "start_time": "2022-06-06T15:14:59.293423Z"
    }
   },
   "outputs": [
    {
     "name": "stdout",
     "output_type": "stream",
     "text": [
      "please enter your email data@1234\n",
      "please enter your password hfdjfdj\n",
      "Incorrect password\n",
      "Please re-enter your passwordqwert\n",
      "Correct Password\n"
     ]
    }
   ],
   "source": [
    "email = input(\"please enter your email \")\n",
    "password = input(\"please enter your password \")\n",
    "\n",
    "if email == \"data@1234\" and password == \"qwert\":\n",
    "    print (\" Welcome\")\n",
    "elif email == \"data@1234\" and password !=\"qwert\":\n",
    "    print(\"Incorrect password\")\n",
    "    password = input(\"Please re-enter your password\")\n",
    "    if password == \"qwert\":\n",
    "        print(\"Correct Password\")\n",
    "    else:\n",
    "        print(\"Incorrect password\")\n",
    "else:\n",
    "    print (\"incorrect Credential\")\n",
    "    "
   ]
  },
  {
   "cell_type": "markdown",
   "id": "5dabfbc7",
   "metadata": {},
   "source": [
    "when whene have more than 1 condition like braches of conditiononditon than we can use elif function in which we can give the \n",
    "ofther conditon it will come between if and else... inside elif we can give if else condition that is called nested if else"
   ]
  },
  {
   "cell_type": "code",
   "execution_count": 12,
   "id": "7e28d24c",
   "metadata": {
    "ExecuteTime": {
     "end_time": "2022-06-06T15:19:42.004693Z",
     "start_time": "2022-06-06T15:19:38.573524Z"
    }
   },
   "outputs": [
    {
     "name": "stdout",
     "output_type": "stream",
     "text": [
      "please enter your email asdsadsadsa\n",
      "Please Enter Correct email\n"
     ]
    }
   ],
   "source": [
    "email = input(\"please enter your email \")\n",
    "if '@' in email:\n",
    "    \n",
    "    pass\n",
    "else:\n",
    "    print(\"Please Enter Correct email\")"
   ]
  },
  {
   "cell_type": "markdown",
   "id": "4644c570",
   "metadata": {},
   "source": [
    "Indentation in Python--- other programing languge use ; and culry braces to specificy block of codes. \n",
    "python after : it will give some space that space is called indentation \n",
    "indemtion enhance readability of codes    \n",
    "    "
   ]
  },
  {
   "cell_type": "code",
   "execution_count": 13,
   "id": "08953240",
   "metadata": {
    "ExecuteTime": {
     "end_time": "2022-06-06T15:45:50.744566Z",
     "start_time": "2022-06-06T15:45:50.739006Z"
    }
   },
   "outputs": [
    {
     "name": "stdout",
     "output_type": "stream",
     "text": [
      "line 1\n",
      "line2\n",
      "line 5\n"
     ]
    }
   ],
   "source": [
    "name=\"xyz\"\n",
    "if name == \"xyz\":\n",
    "    print('line 1')\n",
    "    print('line2')\n",
    "    if 5 == 5:\n",
    "        print('line 5')\n",
    "else:\n",
    "    print('line3')"
   ]
  },
  {
   "cell_type": "code",
   "execution_count": 18,
   "id": "4645f07a",
   "metadata": {
    "ExecuteTime": {
     "end_time": "2022-06-06T15:54:13.770867Z",
     "start_time": "2022-06-06T15:54:11.480947Z"
    }
   },
   "outputs": [
    {
     "name": "stdout",
     "output_type": "stream",
     "text": [
      "please inter ur age4\n",
      "not eligible\n"
     ]
    }
   ],
   "source": [
    "##Write a program to check whether a person is eligible for voting or not. (accept age from user) Hide Answer\n",
    "\n",
    "\n",
    "age = int(input(\"please inter ur age \"))\n",
    "if age >= 18:\n",
    "    print (\" ur eligible for voting\")\n",
    "else:\n",
    "    print(\"not eligible\")\n",
    "    "
   ]
  },
  {
   "cell_type": "code",
   "execution_count": 23,
   "id": "80446a1c",
   "metadata": {
    "ExecuteTime": {
     "end_time": "2022-06-06T15:57:47.163766Z",
     "start_time": "2022-06-06T15:57:45.276090Z"
    }
   },
   "outputs": [
    {
     "name": "stdout",
     "output_type": "stream",
     "text": [
      "please enter the number5\n",
      "number is odd\n"
     ]
    }
   ],
   "source": [
    "num = int(input(\"please enter the number\"))\n",
    "if num%2 == 0:\n",
    "    print(\"number is even\")\n",
    "else:\n",
    "    print(\"number is odd\")"
   ]
  },
  {
   "cell_type": "code",
   "execution_count": 25,
   "id": "e68ee40d",
   "metadata": {
    "ExecuteTime": {
     "end_time": "2022-06-06T15:58:52.509984Z",
     "start_time": "2022-06-06T15:58:51.135413Z"
    }
   },
   "outputs": [
    {
     "name": "stdout",
     "output_type": "stream",
     "text": [
      "please enter the number10\n",
      "number is not divisible by seven\n"
     ]
    }
   ],
   "source": [
    "num = int(input(\"please enter the number \"))\n",
    "if num%7 == 0:\n",
    "    print(\"number is divisible by seven\")\n",
    "else:\n",
    "    print(\"number is not divisible by seven\")"
   ]
  },
  {
   "cell_type": "code",
   "execution_count": 27,
   "id": "1b7a48bf",
   "metadata": {
    "ExecuteTime": {
     "end_time": "2022-06-06T16:00:47.970773Z",
     "start_time": "2022-06-06T16:00:44.851293Z"
    }
   },
   "outputs": [
    {
     "name": "stdout",
     "output_type": "stream",
     "text": [
      "please enter the number4\n",
      "bye\n"
     ]
    }
   ],
   "source": [
    "num = int(input(\"please enter the number\"))\n",
    "if num%5 ==0:\n",
    "    print(\"Hello\")\n",
    "else:\n",
    "    print('bye')"
   ]
  },
  {
   "cell_type": "markdown",
   "id": "02044454",
   "metadata": {},
   "source": [
    "# Nested Loops"
   ]
  },
  {
   "cell_type": "code",
   "execution_count": 4,
   "id": "2fe4ffb7",
   "metadata": {
    "ExecuteTime": {
     "end_time": "2022-06-08T17:37:44.176247Z",
     "start_time": "2022-06-08T17:37:40.836361Z"
    }
   },
   "outputs": [
    {
     "name": "stdout",
     "output_type": "stream",
     "text": [
      "Enter the number3\n",
      "* \n",
      "* * \n",
      "* * * \n"
     ]
    }
   ],
   "source": [
    "row = int(input(\"Enter the number\"))\n",
    "\n",
    "for i in range(1,row + 1):\n",
    "    for j in range(0,i):\n",
    "        print(\"*\",end = \" \")\n",
    "    print(\"\")"
   ]
  },
  {
   "cell_type": "code",
   "execution_count": null,
   "id": "2166b579",
   "metadata": {},
   "outputs": [],
   "source": []
  }
 ],
 "metadata": {
  "kernelspec": {
   "display_name": "Python 3",
   "language": "python",
   "name": "python3"
  },
  "language_info": {
   "codemirror_mode": {
    "name": "ipython",
    "version": 3
   },
   "file_extension": ".py",
   "mimetype": "text/x-python",
   "name": "python",
   "nbconvert_exporter": "python",
   "pygments_lexer": "ipython3",
   "version": "3.8.8"
  }
 },
 "nbformat": 4,
 "nbformat_minor": 5
}
