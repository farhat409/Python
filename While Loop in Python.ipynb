{
 "cells": [
  {
   "cell_type": "markdown",
   "id": "0b848142",
   "metadata": {},
   "source": [
    "Loops:- if in programing u want to do something repedetly again and again that time we are using loops"
   ]
  },
  {
   "cell_type": "markdown",
   "id": "57481093",
   "metadata": {},
   "source": [
    "Python is HAving only 2 Loops\n",
    "1. While Loop\n",
    "2. for Loos"
   ]
  },
  {
   "cell_type": "markdown",
   "id": "e0a68b8a",
   "metadata": {},
   "source": [
    "# While Loop-- With the while loop we can execute a set of statements as long as a condition is true"
   ]
  },
  {
   "cell_type": "raw",
   "id": "99c654cb",
   "metadata": {
    "ExecuteTime": {
     "end_time": "2022-06-07T14:55:36.353643Z",
     "start_time": "2022-06-07T14:55:36.329036Z"
    }
   },
   "source": [
    "Syntax\n",
    "\n",
    "while condition:\n",
    "    code"
   ]
  },
  {
   "cell_type": "code",
   "execution_count": 8,
   "id": "58086245",
   "metadata": {
    "ExecuteTime": {
     "end_time": "2022-06-07T15:00:44.542367Z",
     "start_time": "2022-06-07T15:00:42.185094Z"
    }
   },
   "outputs": [
    {
     "name": "stdout",
     "output_type": "stream",
     "text": [
      "Enter ur number10\n",
      "10\n",
      "20\n",
      "30\n",
      "40\n",
      "50\n",
      "60\n",
      "70\n",
      "80\n",
      "90\n"
     ]
    }
   ],
   "source": [
    "num = int(input(\"Enter ur number\"))\n",
    "\n",
    "i = 1\n",
    "\n",
    "while i<10:\n",
    "    print(num * i)\n",
    "    i+=1"
   ]
  },
  {
   "cell_type": "code",
   "execution_count": 10,
   "id": "29b4983d",
   "metadata": {
    "ExecuteTime": {
     "end_time": "2022-06-07T15:02:18.050078Z",
     "start_time": "2022-06-07T15:02:15.945481Z"
    }
   },
   "outputs": [
    {
     "name": "stdout",
     "output_type": "stream",
     "text": [
      "Enter ur number 10\n",
      "10 * 1 = 10\n",
      "10 * 2 = 20\n",
      "10 * 3 = 30\n",
      "10 * 4 = 40\n",
      "10 * 5 = 50\n",
      "10 * 6 = 60\n",
      "10 * 7 = 70\n",
      "10 * 8 = 80\n",
      "10 * 9 = 90\n"
     ]
    }
   ],
   "source": [
    "num = int(input(\"Enter ur number \"))\n",
    "\n",
    "i = 1\n",
    "\n",
    "while i<10:\n",
    "    print(num, \"*\", i,\"=\",num * i)\n",
    "    i+=1"
   ]
  },
  {
   "cell_type": "markdown",
   "id": "22c806b7",
   "metadata": {},
   "source": [
    "Range function:The range() function returns a sequence of numbers, starting from 0 by default, \n",
    "and increments by 1 (by default), and stops before a specified number.\n",
    "\n",
    "range(start, stop, step) "
   ]
  },
  {
   "cell_type": "code",
   "execution_count": 11,
   "id": "b2e80d72",
   "metadata": {
    "ExecuteTime": {
     "end_time": "2022-06-07T15:12:56.721484Z",
     "start_time": "2022-06-07T15:12:56.706614Z"
    }
   },
   "outputs": [
    {
     "data": {
      "text/plain": [
       "range(1, 100)"
      ]
     },
     "execution_count": 11,
     "metadata": {},
     "output_type": "execute_result"
    }
   ],
   "source": [
    "range(1,100)"
   ]
  },
  {
   "cell_type": "code",
   "execution_count": 12,
   "id": "967681f7",
   "metadata": {
    "ExecuteTime": {
     "end_time": "2022-06-07T15:13:12.300023Z",
     "start_time": "2022-06-07T15:13:12.284097Z"
    }
   },
   "outputs": [
    {
     "data": {
      "text/plain": [
       "[1, 2, 3, 4, 5, 6, 7, 8, 9, 10, 11, 12, 13, 14, 15, 16, 17, 18, 19]"
      ]
     },
     "execution_count": 12,
     "metadata": {},
     "output_type": "execute_result"
    }
   ],
   "source": [
    "list(range(1,20))"
   ]
  },
  {
   "cell_type": "code",
   "execution_count": 15,
   "id": "21364742",
   "metadata": {
    "ExecuteTime": {
     "end_time": "2022-06-07T15:13:40.258337Z",
     "start_time": "2022-06-07T15:13:40.250814Z"
    }
   },
   "outputs": [
    {
     "data": {
      "text/plain": [
       "[1, 2, 3, 4]"
      ]
     },
     "execution_count": 15,
     "metadata": {},
     "output_type": "execute_result"
    }
   ],
   "source": [
    "list(range(1,5))"
   ]
  },
  {
   "cell_type": "code",
   "execution_count": 17,
   "id": "3fd933dd",
   "metadata": {
    "ExecuteTime": {
     "end_time": "2022-06-07T15:15:33.344190Z",
     "start_time": "2022-06-07T15:15:33.335066Z"
    }
   },
   "outputs": [
    {
     "data": {
      "text/plain": [
       "[1, 3, 5, 7, 9, 11, 13, 15, 17, 19, 21, 23, 25, 27, 29]"
      ]
     },
     "execution_count": 17,
     "metadata": {},
     "output_type": "execute_result"
    }
   ],
   "source": [
    "list(range(1,30,2))"
   ]
  },
  {
   "cell_type": "code",
   "execution_count": 21,
   "id": "886ec9a0",
   "metadata": {
    "ExecuteTime": {
     "end_time": "2022-06-07T15:16:14.199829Z",
     "start_time": "2022-06-07T15:16:14.182919Z"
    }
   },
   "outputs": [
    {
     "data": {
      "text/plain": [
       "[10, 8, 6, 4, 2]"
      ]
     },
     "execution_count": 21,
     "metadata": {},
     "output_type": "execute_result"
    }
   ],
   "source": [
    "list(range(10,0,-2))"
   ]
  },
  {
   "cell_type": "markdown",
   "id": "f3d127b8",
   "metadata": {},
   "source": [
    "For Loop- its itirrate over squence or range"
   ]
  },
  {
   "cell_type": "code",
   "execution_count": 23,
   "id": "ba71647f",
   "metadata": {
    "ExecuteTime": {
     "end_time": "2022-06-07T15:21:55.816947Z",
     "start_time": "2022-06-07T15:21:55.805537Z"
    }
   },
   "outputs": [
    {
     "name": "stdout",
     "output_type": "stream",
     "text": [
      "1\n",
      "2\n",
      "3\n",
      "4\n",
      "5\n",
      "6\n",
      "7\n",
      "8\n",
      "9\n",
      "10\n"
     ]
    }
   ],
   "source": [
    "for i in range(1,11):\n",
    "    print(i)"
   ]
  },
  {
   "cell_type": "code",
   "execution_count": 24,
   "id": "d8fcd86d",
   "metadata": {
    "ExecuteTime": {
     "end_time": "2022-06-07T15:22:33.259823Z",
     "start_time": "2022-06-07T15:22:33.244305Z"
    }
   },
   "outputs": [
    {
     "name": "stdout",
     "output_type": "stream",
     "text": [
      "1\n",
      "3\n",
      "5\n",
      "7\n",
      "9\n"
     ]
    }
   ],
   "source": [
    "for i in range(1,11,2):\n",
    "    print(i)"
   ]
  },
  {
   "cell_type": "code",
   "execution_count": 25,
   "id": "5aefec40",
   "metadata": {
    "ExecuteTime": {
     "end_time": "2022-06-07T15:23:42.415901Z",
     "start_time": "2022-06-07T15:23:42.407060Z"
    }
   },
   "outputs": [
    {
     "name": "stdout",
     "output_type": "stream",
     "text": [
      "D\n",
      "e\n",
      "l\n",
      "h\n",
      "i\n"
     ]
    }
   ],
   "source": [
    "for i in \"Delhi\":\n",
    "    print(i)"
   ]
  },
  {
   "cell_type": "code",
   "execution_count": 27,
   "id": "00b4b72e",
   "metadata": {
    "ExecuteTime": {
     "end_time": "2022-06-07T15:25:19.464410Z",
     "start_time": "2022-06-07T15:25:19.445270Z"
    }
   },
   "outputs": [
    {
     "name": "stdout",
     "output_type": "stream",
     "text": [
      "1\n",
      "2\n",
      "3\n",
      "4\n",
      "5\n",
      "6\n"
     ]
    }
   ],
   "source": [
    "for i in [1,2,3,4,5,6]:## List\n",
    "    print(i)"
   ]
  },
  {
   "cell_type": "code",
   "execution_count": 28,
   "id": "961af38e",
   "metadata": {
    "ExecuteTime": {
     "end_time": "2022-06-07T15:25:59.665760Z",
     "start_time": "2022-06-07T15:25:59.656786Z"
    }
   },
   "outputs": [
    {
     "name": "stdout",
     "output_type": "stream",
     "text": [
      "1\n",
      "2\n",
      "3\n",
      "4\n",
      "5\n",
      "6\n"
     ]
    }
   ],
   "source": [
    "for i in (1,2,3,4,5,6):## tuple\n",
    "    print(i)"
   ]
  },
  {
   "cell_type": "code",
   "execution_count": 29,
   "id": "3eaeee38",
   "metadata": {
    "ExecuteTime": {
     "end_time": "2022-06-07T15:26:16.733741Z",
     "start_time": "2022-06-07T15:26:16.720765Z"
    }
   },
   "outputs": [
    {
     "name": "stdout",
     "output_type": "stream",
     "text": [
      "1\n",
      "2\n",
      "3\n",
      "4\n",
      "5\n",
      "6\n"
     ]
    }
   ],
   "source": [
    "for i in {1,2,3,4,5,6}:## Sets\n",
    "    print(i)"
   ]
  },
  {
   "cell_type": "raw",
   "id": "9abf1ca7",
   "metadata": {},
   "source": [
    "when we have to use for and while loop\n",
    "\n",
    "for loop--- if u know how many number of times loop want then we can use for\n",
    "whiel loop--- if we dont know how many for loops we want then fgo for while loop"
   ]
  },
  {
   "cell_type": "code",
   "execution_count": null,
   "id": "537abc38",
   "metadata": {},
   "outputs": [],
   "source": []
  }
 ],
 "metadata": {
  "kernelspec": {
   "display_name": "Python 3",
   "language": "python",
   "name": "python3"
  },
  "language_info": {
   "codemirror_mode": {
    "name": "ipython",
    "version": 3
   },
   "file_extension": ".py",
   "mimetype": "text/x-python",
   "name": "python",
   "nbconvert_exporter": "python",
   "pygments_lexer": "ipython3",
   "version": "3.8.8"
  }
 },
 "nbformat": 4,
 "nbformat_minor": 5
}
