{
 "cells": [
  {
   "cell_type": "raw",
   "id": "0651a637",
   "metadata": {},
   "source": [
    "Module basically a python file inside that function will be there \n",
    "What are modules?\n",
    "1.Consider a module to be the same as a code library.\n",
    "2. A file containing a set of functions you want to include in your application.\n",
    "Examples of python modules\n",
    "\n",
    "    Math\n",
    "    Random\n",
    "    os\n",
    "    time\n",
    "\n"
   ]
  },
  {
   "cell_type": "markdown",
   "id": "0187ef27",
   "metadata": {},
   "source": []
  },
  {
   "cell_type": "code",
   "execution_count": 1,
   "id": "dc89351b",
   "metadata": {
    "ExecuteTime": {
     "end_time": "2022-06-09T15:57:42.959266Z",
     "start_time": "2022-06-09T15:55:33.828488Z"
    }
   },
   "outputs": [
    {
     "name": "stdout",
     "output_type": "stream",
     "text": [
      "\n",
      "Please wait a moment while I gather a list of all available modules...\n",
      "\n"
     ]
    },
    {
     "name": "stderr",
     "output_type": "stream",
     "text": [
      "D:\\Farhat\\lib\\site-packages\\IPython\\kernel\\__init__.py:12: ShimWarning: The `IPython.kernel` package has been deprecated since IPython 4.0.You should import from ipykernel or jupyter_client instead.\n",
      "  warn(\"The `IPython.kernel` package has been deprecated since IPython 4.0.\"\n",
      "WARNING: AstropyDeprecationWarning: The private astropy._erfa module has been made into its own package, pyerfa, which is a dependency of astropy and can be imported directly using \"import erfa\" [astropy._erfa]\n",
      "D:\\Farhat\\lib\\pkgutil.py:92: MatplotlibDeprecationWarning: \n",
      "The matplotlib.compat module was deprecated in Matplotlib 3.3 and will be removed two minor releases later.\n",
      "  __import__(info.name)\n",
      "D:\\Farhat\\lib\\site-packages\\nltk\\twitter\\__init__.py:21: UserWarning: The twython library has not been installed. Some functionality from the twitter package will not be available.\n",
      "  warnings.warn(\n",
      "D:\\Farhat\\lib\\site-packages\\skimage\\viewer\\utils\\__init__.py:1: UserWarning: Recommended matplotlib backend is `Agg` for full skimage.viewer functionality.\n",
      "  from .core import *\n",
      "D:\\Farhat\\lib\\site-packages\\qtawesome\\iconic_font.py:313: UserWarning: You need to have a running QApplication to use QtAwesome!\n",
      "  warnings.warn(\"You need to have a running \"\n",
      "D:\\Farhat\\lib\\pkgutil.py:107: VisibleDeprecationWarning: zmq.eventloop.minitornado is deprecated in pyzmq 14.0 and will be removed.\n",
      "    Install tornado itself to use zmq with the tornado IOLoop.\n",
      "    \n",
      "  yield from walk_packages(path, info.name+'.', onerror)\n"
     ]
    },
    {
     "name": "stdout",
     "output_type": "stream",
     "text": [
      "App(2)              cProfile            mccabe              sniffio\n",
      "Cython              cachetools          menuinst            snowballstemmer\n",
      "IPython             calendar            mimetypes           socket\n",
      "OpenSSL             catalogue           mistune             socketserver\n",
      "PIL                 certifi             mkl                 socks\n",
      "PyPDF2              cffi                mkl_fft             sockshandler\n",
      "PyQt5               cgi                 mkl_random          sortedcollections\n",
      "__future__          cgitb               mlxtend             sortedcontainers\n",
      "_abc                chardet             mmap                soupsieve\n",
      "_ast                chunk               mmapfile            spacy\n",
      "_asyncio            clang               mmsystem            spacy_legacy\n",
      "_bisect             click               mock                spacy_loggers\n",
      "_black_version      cloudpickle         modulefinder        sphinx\n",
      "_blake2             clyent              more_itertools      sphinxcontrib\n",
      "_bootlocale         cmath               mpmath              splinter\n",
      "_bz2                cmd                 msgpack             spyder\n",
      "_cffi_backend       code                msilib              spyder_kernels\n",
      "_codecs             codecs              msvcrt              sqlalchemy\n",
      "_codecs_cn          codeop              multipledispatch    sqlite3\n",
      "_codecs_hk          collections         multiprocessing     sre_compile\n",
      "_codecs_iso2022     colorama            murmurhash          sre_constants\n",
      "_codecs_jp          colorsys            mypy_extensions     sre_parse\n",
      "_codecs_kr          commctrl            nacl                srsly\n",
      "_codecs_tw          compileall          navigator_updater   ssl\n",
      "_collections        comtypes            nbclassic           sspi\n",
      "_collections_abc    concurrent          nbclient            sspicon\n",
      "_compat_pickle      conda               nbconvert           stat\n",
      "_compression        conda_build         nbformat            statistics\n",
      "_contextvars        conda_content_trust nest_asyncio        statsmodels\n",
      "_csv                conda_env           netbios             storemagic\n",
      "_ctypes             conda_package_handling netrc               string\n",
      "_ctypes_test        conda_token         networkx            stringprep\n",
      "_datetime           conda_verify        nltk                struct\n",
      "_decimal            configparser        nntplib             subprocess\n",
      "_distutils_hack     constantly          nose                sunau\n",
      "_dummy_thread       contextlib          notebook            symbol\n",
      "_elementtree        contextlib2         notebook_as_pdf     sympy\n",
      "_functools          contextvars         nt                  sympyprinting\n",
      "_hashlib            copy                ntpath              symtable\n",
      "_heapq              copyreg             ntsecuritycon       sys\n",
      "_imp                crypt               nturl2path          sysconfig\n",
      "_io                 cryptography        numba               tables\n",
      "_json               cssselect           numbers             tabnanny\n",
      "_locale             csv                 numexpr             tarfile\n",
      "_lsprof             ctypes              numpy               tblib\n",
      "_lzma               curl                numpydoc            telnetlib\n",
      "_markupbase         curses              oauthlib            tempfile\n",
      "_md5                cwp                 odbc                tensorboard\n",
      "_msi                cycler              olefile             tensorboard_data_server\n",
      "_multibytecodec     cymem               opcode              tensorboard_plugin_wit\n",
      "_multiprocessing    cython              openpyxl            tensorflow\n",
      "_nsis               cythonmagic         operator            tensorflow_estimator\n",
      "_opcode             cytoolz             opt_einsum          tensorflow_io_gcs_filesystem\n",
      "_operator           dask                optparse            termcolor\n",
      "_osx_support        dataclasses         os                  terminado\n",
      "_overlapped         datetime            outcome             test\n",
      "_pickle             dateutil            packaging           test_pycosat\n",
      "_py_abc             dbi                 pandas              testpath\n",
      "_pydecimal          dbm                 pandocfilters       tests\n",
      "_pyio               dde                 paramiko            textblob\n",
      "_pyrsistent_version decimal             parsel              textdistance\n",
      "_pytest             decorator           parser              textwrap\n",
      "_queue              defusedxml          parso               thinc\n",
      "_random             diff_match_patch    partd               this\n",
      "_sha1               difflib             past                threading\n",
      "_sha256             dis                 pasta               threadpoolctl\n",
      "_sha3               distributed         path                three_merge\n",
      "_sha512             distutils           pathlib             tifffile\n",
      "_signal             doctest             pathlib2            time\n",
      "_sitebuiltins       docutils            pathspec            timeit\n",
      "_socket             dot_parser          pathy               timer\n",
      "_sqlite3            dummy_threading     patsy               tkinter\n",
      "_sre                email               pdb                 tlz\n",
      "_ssl                en_core_web_sm      pep8                token\n",
      "_stat               encodings           perfmon             tokenize\n",
      "_statistics         ensurepip           pexpect             toml\n",
      "_string             entrypoints         pickle              toolz\n",
      "_strptime           enum                pickleshare         tornado\n",
      "_struct             erfa                pickletools         tqdm\n",
      "_symtable           errno               pip                 trace\n",
      "_system_path        et_xmlfile          pipes               traceback\n",
      "_testbuffer         fastcache           pkg_resources       tracemalloc\n",
      "_testcapi           faulthandler        pkginfo             traitlets\n",
      "_testconsole        filecmp             pkgutil             trio\n",
      "_testimportmultiple fileinput           platform            trio_websocket\n",
      "_testinternalcapi   filelock            plistlib            tty\n",
      "_testmultiphase     flake8              pluggy              turtle\n",
      "_thread             flask               ply                 turtledemo\n",
      "_threading_local    flatbuffers         poplib              twisted\n",
      "_tkinter            fnmatch             posixpath           typed_ast\n",
      "_tracemalloc        formatter           pprint              typer\n",
      "_warnings           fractions           preshed             types\n",
      "_weakref            fsspec              profile             typing\n",
      "_weakrefset         ftplib              prometheus_client   typing_extensions\n",
      "_win32sysloader     functools           prompt_toolkit      ujson\n",
      "_winapi             future              protego             unicodecsv\n",
      "_winxptheme         gast                pstats              unicodedata\n",
      "_xxsubinterpreters  gc                  psutil              unittest\n",
      "_yaml               genericpath         pty                 urllib\n",
      "abc                 getopt              ptyprocess          urllib3\n",
      "absl                getpass             pvectorc            uu\n",
      "adodbapi            gettext             py                  uuid\n",
      "afxres              gevent              py_compile          vaderSentiment\n",
      "aifc                glob                pyasn1              venv\n",
      "alabaster           glob2               pyasn1_modules      w3lib\n",
      "anaconda_navigator  google_auth_oauthlib pyclbr              warnings\n",
      "anaconda_project    graphviz            pycodestyle         wasabi\n",
      "antigravity         greenlet            pycosat             watchdog\n",
      "anyio               gridfs              pycparser           wave\n",
      "appdirs             grpc                pycurl              wcwidth\n",
      "argh                gzip                pydantic            weakref\n",
      "argon2              h11                 pydispatch          webbrowser\n",
      "argparse            h5py                pydoc               webencodings\n",
      "array               hamcrest            pydoc_data          websockets\n",
      "asn1crypto          hashlib             pydocstyle          werkzeug\n",
      "ast                 he                  pydot               wheel\n",
      "astroid             heapdict            pydotplus           widgetsnbextension\n"
     ]
    },
    {
     "name": "stdout",
     "output_type": "stream",
     "text": [
      "astropy             heapq               pyee                win2kras\n",
      "astunparse          hmac                pyexpat             win32api\n",
      "async_generator     html                pyflakes            win32clipboard\n",
      "asynchat            html5lib            pygments            win32com\n",
      "asyncio             http                pylab               win32con\n",
      "asyncore            hyperlink           pylint              win32console\n",
      "atexit              idlelib             pyls                win32cred\n",
      "atomicwrites        idna                pyls_black          win32crypt\n",
      "attr                imagecodecs         pyls_jsonrpc        win32cryptcon\n",
      "audioop             imageio             pyls_spyder         win32ctypes\n",
      "automat             imagesize           pymongo             win32event\n",
      "autopep8            imaplib             pyodbc              win32evtlog\n",
      "autoreload          imghdr              pyparsing           win32evtlogutil\n",
      "autoscraper         imp                 pyppeteer           win32file\n",
      "babel               importlib           pyreadline          win32gui\n",
      "backcall            importlib_metadata  pyrsistent          win32gui_struct\n",
      "backports           incremental         pytest              win32help\n",
      "base64              iniconfig           pythoncom           win32inet\n",
      "bcrypt              inspect             pytz                win32inetcon\n",
      "bdb                 intervaltree        pywin               win32job\n",
      "binascii            io                  pywin32_bootstrap   win32lz\n",
      "binhex              ipaddress           pywin32_testutil    win32net\n",
      "binstar_client      ipykernel           pywintypes          win32netcon\n",
      "bisect              ipykernel_launcher  pywt                win32pdh\n",
      "bitarray            ipython_genutils    pyximport           win32pdhquery\n",
      "bkcharts            ipywidgets          qdarkstyle          win32pdhutil\n",
      "black               isapi               qtawesome           win32pipe\n",
      "blackd              isort               qtconsole           win32print\n",
      "bleach              isympy              qtpy                win32process\n",
      "blib2to3            itemadapter         queue               win32profile\n",
      "blis                itemloaders         queuelib            win32ras\n",
      "bokeh               itertools           quopri              win32rcparser\n",
      "boto                itsdangerous        random              win32security\n",
      "bottleneck          jdcal               rasutil             win32service\n",
      "brain_argparse      jedi                re                  win32serviceutil\n",
      "brain_attrs         jinja2              re(1)               win32timezone\n",
      "brain_boto3         jmespath            readline            win32trace\n",
      "brain_builtin_inference joblib              regcheck            win32traceutil\n",
      "brain_collections   json                regex               win32transaction\n",
      "brain_crypt         json5               regutil             win32ts\n",
      "brain_curses        jsonschema          repo_cli            win32ui\n",
      "brain_dataclasses   jupyter             reprlib             win32uiole\n",
      "brain_dateutil      jupyter_client      requests            win32verstamp\n",
      "brain_fstrings      jupyter_console     requests_oauthlib   win32wnet\n",
      "brain_functools     jupyter_contrib_core rlcompleter         win_inet_pton\n",
      "brain_gi            jupyter_contrib_nbextensions rmagic              win_unicode_console\n",
      "brain_hashlib       jupyter_core        rope                wincertstore\n",
      "brain_http          jupyter_highlight_selected_word rsa                 winerror\n",
      "brain_hypothesis    jupyter_nbextensions_configurator rtree               winioctlcon\n",
      "brain_io            jupyter_packaging   ruamel_yaml         winnt\n",
      "brain_mechanize     jupyter_server      run                 winperf\n",
      "brain_multiprocessing jupyterlab          runpy               winpty\n",
      "brain_namedtuple_enum jupyterlab_pygments sched               winreg\n",
      "brain_nose          jupyterlab_server   scikitplot          winsound\n",
      "brain_numpy_core_fromnumeric jupyterlab_widgets  scipy               winxpgui\n",
      "brain_numpy_core_function_base keras               scrapy              winxptheme\n",
      "brain_numpy_core_multiarray keras_preprocessing scripts             wordcloud\n",
      "brain_numpy_core_numeric keyring             seaborn             wrapt\n",
      "brain_numpy_core_numerictypes keyword             secrets             wsgiref\n",
      "brain_numpy_core_umath kiwisolver          select              wsproto\n",
      "brain_numpy_ndarray langcodes           selectors           xdrlib\n",
      "brain_numpy_random_mtrand latex_envs          selenium            xgboost\n",
      "brain_numpy_utils   lazy_object_proxy   send2trash          xlrd\n",
      "brain_pkg_resources lib2to3             service_identity    xlsxwriter\n",
      "brain_pytest        libarchive          servicemanager      xlwings\n",
      "brain_qt            libfuturize         setuptools          xlwt\n",
      "brain_random        libpasteurize       shelve              xml\n",
      "brain_re            lief                shlex               xmlrpc\n",
      "brain_responses     lightgbm            shutil              xmltodict\n",
      "brain_scipy_signal  linecache           signal              xxsubtype\n",
      "brain_six           llvmlite            simplegeneric       yaml\n",
      "brain_sqlalchemy    locale              singledispatch      yapf\n",
      "brain_ssl           locket              sip                 yapftests\n",
      "brain_subprocess    logging             sipconfig           zict\n",
      "brain_threading     lxml                sipdistutils        zipapp\n",
      "brain_type          lzma                site                zipfile\n",
      "brain_typing        mailbox             six                 zipimport\n",
      "brain_uuid          mailcap             skimage             zipp\n",
      "brotli              markdown            sklearn             zlib\n",
      "bs4                 markupsafe          smart_open          zmq\n",
      "bson                marshal             smtpd               zope\n",
      "builtins            math                smtplib             \n",
      "bz2                 matplotlib          sndhdr              \n",
      "\n",
      "Enter any module name to get more help.  Or, type \"modules spam\" to search\n",
      "for modules whose name or summary contain the string \"spam\".\n",
      "\n"
     ]
    }
   ],
   "source": [
    "help('modules')"
   ]
  },
  {
   "cell_type": "code",
   "execution_count": 2,
   "id": "e69267a5",
   "metadata": {
    "ExecuteTime": {
     "end_time": "2022-06-09T15:58:51.709744Z",
     "start_time": "2022-06-09T15:58:51.692501Z"
    }
   },
   "outputs": [],
   "source": [
    "import math"
   ]
  },
  {
   "cell_type": "code",
   "execution_count": 3,
   "id": "5c188f07",
   "metadata": {
    "ExecuteTime": {
     "end_time": "2022-06-09T15:59:04.828083Z",
     "start_time": "2022-06-09T15:59:04.816085Z"
    }
   },
   "outputs": [
    {
     "data": {
      "text/plain": [
       "10.0"
      ]
     },
     "execution_count": 3,
     "metadata": {},
     "output_type": "execute_result"
    }
   ],
   "source": [
    "math.sqrt(100)"
   ]
  },
  {
   "cell_type": "code",
   "execution_count": 4,
   "id": "78d2cdf4",
   "metadata": {
    "ExecuteTime": {
     "end_time": "2022-06-09T15:59:10.641737Z",
     "start_time": "2022-06-09T15:59:10.629765Z"
    }
   },
   "outputs": [],
   "source": [
    "import random"
   ]
  },
  {
   "cell_type": "code",
   "execution_count": 6,
   "id": "322071f8",
   "metadata": {
    "ExecuteTime": {
     "end_time": "2022-06-09T15:59:37.721808Z",
     "start_time": "2022-06-09T15:59:37.704379Z"
    }
   },
   "outputs": [
    {
     "data": {
      "text/plain": [
       "47"
      ]
     },
     "execution_count": 6,
     "metadata": {},
     "output_type": "execute_result"
    }
   ],
   "source": [
    "random.randint(1,100)# Generate random number betwwen the range"
   ]
  },
  {
   "cell_type": "code",
   "execution_count": 13,
   "id": "b519f4ec",
   "metadata": {
    "ExecuteTime": {
     "end_time": "2022-06-09T16:05:24.496281Z",
     "start_time": "2022-06-09T16:05:24.476336Z"
    }
   },
   "outputs": [
    {
     "data": {
      "text/plain": [
       "16"
      ]
     },
     "execution_count": 13,
     "metadata": {},
     "output_type": "execute_result"
    }
   ],
   "source": [
    "random.randrange(1,20,3)"
   ]
  },
  {
   "cell_type": "code",
   "execution_count": 14,
   "id": "a0cb14b7",
   "metadata": {
    "ExecuteTime": {
     "end_time": "2022-06-09T16:05:46.493948Z",
     "start_time": "2022-06-09T16:05:46.487907Z"
    }
   },
   "outputs": [
    {
     "data": {
      "text/plain": [
       "[4, 5, 3, 2, 1]"
      ]
     },
     "execution_count": 14,
     "metadata": {},
     "output_type": "execute_result"
    }
   ],
   "source": [
    "a = [1,2,3,4,5]\n",
    "random.shuffle(a)\n",
    "a"
   ]
  },
  {
   "cell_type": "code",
   "execution_count": 15,
   "id": "243780b4",
   "metadata": {
    "ExecuteTime": {
     "end_time": "2022-06-09T16:05:52.917690Z",
     "start_time": "2022-06-09T16:05:52.911234Z"
    }
   },
   "outputs": [],
   "source": [
    "import time"
   ]
  },
  {
   "cell_type": "code",
   "execution_count": 16,
   "id": "951f4b45",
   "metadata": {
    "ExecuteTime": {
     "end_time": "2022-06-09T16:05:59.467940Z",
     "start_time": "2022-06-09T16:05:59.461519Z"
    }
   },
   "outputs": [
    {
     "data": {
      "text/plain": [
       "'Thu Jun  9 21:35:59 2022'"
      ]
     },
     "execution_count": 16,
     "metadata": {},
     "output_type": "execute_result"
    }
   ],
   "source": [
    "time.ctime()# Current time"
   ]
  },
  {
   "cell_type": "code",
   "execution_count": 17,
   "id": "36c7c2d7",
   "metadata": {
    "ExecuteTime": {
     "end_time": "2022-06-09T16:07:23.179914Z",
     "start_time": "2022-06-09T16:07:22.156421Z"
    }
   },
   "outputs": [
    {
     "name": "stdout",
     "output_type": "stream",
     "text": [
      "Hello\n",
      "World\n"
     ]
    }
   ],
   "source": [
    "print(\"Hello\")## first print hello After  1 second it will print world\n",
    "time.sleep(1)\n",
    "print(\"World\")"
   ]
  },
  {
   "cell_type": "code",
   "execution_count": 18,
   "id": "dff02622",
   "metadata": {
    "ExecuteTime": {
     "end_time": "2022-06-09T16:09:04.303286Z",
     "start_time": "2022-06-09T16:09:04.289273Z"
    }
   },
   "outputs": [],
   "source": [
    "import os"
   ]
  },
  {
   "cell_type": "code",
   "execution_count": 19,
   "id": "ca74305e",
   "metadata": {
    "ExecuteTime": {
     "end_time": "2022-06-09T16:09:10.154165Z",
     "start_time": "2022-06-09T16:09:10.140260Z"
    }
   },
   "outputs": [
    {
     "data": {
      "text/plain": [
       "'C:\\\\Users\\\\Admin'"
      ]
     },
     "execution_count": 19,
     "metadata": {},
     "output_type": "execute_result"
    }
   ],
   "source": [
    "os.getcwd()## Current working directory"
   ]
  },
  {
   "cell_type": "code",
   "execution_count": 20,
   "id": "59e97f91",
   "metadata": {
    "ExecuteTime": {
     "end_time": "2022-06-09T16:09:30.262150Z",
     "start_time": "2022-06-09T16:09:30.253237Z"
    }
   },
   "outputs": [
    {
     "data": {
      "text/plain": [
       "['.anaconda',\n",
       " '.astropy',\n",
       " '.atom',\n",
       " '.conda',\n",
       " '.condarc',\n",
       " '.continuum',\n",
       " '.idlerc',\n",
       " '.ipynb_checkpoints',\n",
       " '.ipython',\n",
       " '.jupyter',\n",
       " '.keras',\n",
       " '.matplotlib',\n",
       " '.spyder-py3',\n",
       " '.streamlit',\n",
       " '.vscode',\n",
       " '3D Objects',\n",
       " 'AmazonSpeakerReviewRefined.csv',\n",
       " 'anaconda3',\n",
       " 'Analyis On Car Dataset.ipynb',\n",
       " 'AppData',\n",
       " 'Application Data',\n",
       " 'auto-eda.ipynb',\n",
       " 'Break, Continue and Pass Statements in Python.ipynb',\n",
       " 'Built-in Functions in Python.ipynb',\n",
       " 'Built-in Modules in Python.ipynb',\n",
       " 'Contacts',\n",
       " 'Cookies',\n",
       " 'datasets_435_896_sales_data_sample.csv',\n",
       " 'Data_Types_Python.ipynb',\n",
       " 'Descriptive Statistics - Visualization Techniques.ipynb',\n",
       " 'Desktop',\n",
       " 'Documents',\n",
       " 'Downloads',\n",
       " 'Favorites',\n",
       " 'gender_submission.csv',\n",
       " 'he.py',\n",
       " 'If-else Statements in Python & Nested If-else.ipynb',\n",
       " 'IntelGraphicsProfiles',\n",
       " 'Keywords.ipynb',\n",
       " 'Links',\n",
       " 'Local Settings',\n",
       " 'Microsoft',\n",
       " 'MicrosoftEdgeBackups',\n",
       " 'Music',\n",
       " 'My Documents',\n",
       " 'NetHood',\n",
       " 'NTUSER.DAT',\n",
       " 'ntuser.dat.LOG1',\n",
       " 'ntuser.dat.LOG2',\n",
       " 'NTUSER.DAT{c70499cc-833e-11eb-824a-9e7adf95d006}.TM.blf',\n",
       " 'NTUSER.DAT{c70499cc-833e-11eb-824a-9e7adf95d006}.TMContainer00000000000000000001.regtrans-ms',\n",
       " 'NTUSER.DAT{c70499cc-833e-11eb-824a-9e7adf95d006}.TMContainer00000000000000000002.regtrans-ms',\n",
       " 'ntuser.ini',\n",
       " 'OneDrive',\n",
       " 'Operators in Python.ipynb',\n",
       " 'P106(EDA).ipynb',\n",
       " 'Pictures',\n",
       " 'PrintHood',\n",
       " 'Project(106).ipynb',\n",
       " 'PycharmProjects',\n",
       " 'Python_Basic_1.ipynb',\n",
       " 're(1).py',\n",
       " 'Recent',\n",
       " 'Saved Games',\n",
       " 'seaborn-data',\n",
       " 'Searches',\n",
       " 'SendTo',\n",
       " 'Sentiment_Analysis_Using_VADER.ipynb',\n",
       " 'Start Menu',\n",
       " 'Templates',\n",
       " 'test.csv',\n",
       " 'train.csv',\n",
       " 'Untitled.ipynb',\n",
       " 'Untitled1.ipynb',\n",
       " 'Untitled10.ipynb',\n",
       " 'Untitled11.ipynb',\n",
       " 'Untitled12.ipynb',\n",
       " 'Untitled13.ipynb',\n",
       " 'Untitled14.ipynb',\n",
       " 'Untitled15.ipynb',\n",
       " 'Untitled16.ipynb',\n",
       " 'Untitled17.ipynb',\n",
       " 'Untitled18.ipynb',\n",
       " 'Untitled2.ipynb',\n",
       " 'Untitled3.ipynb',\n",
       " 'Untitled4.ipynb',\n",
       " 'Untitled5.ipynb',\n",
       " 'Untitled6.ipynb',\n",
       " 'Untitled7.ipynb',\n",
       " 'Untitled8.ipynb',\n",
       " 'Untitled9.ipynb',\n",
       " 'user input and type conversion.ipynb',\n",
       " 'Variables.ipynb',\n",
       " 'Videos',\n",
       " 'While Loop in Python.ipynb']"
      ]
     },
     "execution_count": 20,
     "metadata": {},
     "output_type": "execute_result"
    }
   ],
   "source": [
    "os.listdir()"
   ]
  },
  {
   "cell_type": "code",
   "execution_count": null,
   "id": "db645bd5",
   "metadata": {},
   "outputs": [],
   "source": []
  }
 ],
 "metadata": {
  "kernelspec": {
   "display_name": "Python 3",
   "language": "python",
   "name": "python3"
  },
  "language_info": {
   "codemirror_mode": {
    "name": "ipython",
    "version": 3
   },
   "file_extension": ".py",
   "mimetype": "text/x-python",
   "name": "python",
   "nbconvert_exporter": "python",
   "pygments_lexer": "ipython3",
   "version": "3.8.8"
  }
 },
 "nbformat": 4,
 "nbformat_minor": 5
}
