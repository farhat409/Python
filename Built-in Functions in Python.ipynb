{
 "cells": [
  {
   "cell_type": "markdown",
   "id": "9f72e124",
   "metadata": {},
   "source": [
    "# 1.Print"
   ]
  },
  {
   "cell_type": "code",
   "execution_count": 1,
   "id": "3fbaba8e",
   "metadata": {
    "ExecuteTime": {
     "end_time": "2022-06-09T15:47:33.438596Z",
     "start_time": "2022-06-09T15:47:33.428349Z"
    }
   },
   "outputs": [
    {
     "name": "stdout",
     "output_type": "stream",
     "text": [
      "Heelo\n"
     ]
    }
   ],
   "source": [
    "print(\"Heelo\")"
   ]
  },
  {
   "cell_type": "markdown",
   "id": "cf7b16b0",
   "metadata": {},
   "source": [
    "# 2. Input"
   ]
  },
  {
   "cell_type": "code",
   "execution_count": 4,
   "id": "a65ab6b2",
   "metadata": {
    "ExecuteTime": {
     "end_time": "2022-06-09T15:49:02.566225Z",
     "start_time": "2022-06-09T15:48:59.419937Z"
    }
   },
   "outputs": [
    {
     "name": "stdout",
     "output_type": "stream",
     "text": [
      "Enter your name fara\n"
     ]
    },
    {
     "data": {
      "text/plain": [
       "'fara'"
      ]
     },
     "execution_count": 4,
     "metadata": {},
     "output_type": "execute_result"
    }
   ],
   "source": [
    "input(\"Enter your name \")"
   ]
  },
  {
   "cell_type": "markdown",
   "id": "1fb9104b",
   "metadata": {},
   "source": [
    "# 3. type"
   ]
  },
  {
   "cell_type": "code",
   "execution_count": 3,
   "id": "4cf11750",
   "metadata": {
    "ExecuteTime": {
     "end_time": "2022-06-09T15:48:54.287313Z",
     "start_time": "2022-06-09T15:48:54.276562Z"
    }
   },
   "outputs": [
    {
     "data": {
      "text/plain": [
       "bool"
      ]
     },
     "execution_count": 3,
     "metadata": {},
     "output_type": "execute_result"
    }
   ],
   "source": [
    "a = True\n",
    "type(a)"
   ]
  },
  {
   "cell_type": "markdown",
   "id": "5b1d6319",
   "metadata": {},
   "source": [
    "# 4. int etc."
   ]
  },
  {
   "cell_type": "code",
   "execution_count": 5,
   "id": "984c30eb",
   "metadata": {
    "ExecuteTime": {
     "end_time": "2022-06-09T15:49:26.780100Z",
     "start_time": "2022-06-09T15:49:26.772227Z"
    }
   },
   "outputs": [
    {
     "data": {
      "text/plain": [
       "5"
      ]
     },
     "execution_count": 5,
     "metadata": {},
     "output_type": "execute_result"
    }
   ],
   "source": [
    "int(5.6)\n",
    "# float\n",
    "# str\n",
    "# list\n",
    "# tuple"
   ]
  },
  {
   "cell_type": "markdown",
   "id": "a430a8b2",
   "metadata": {},
   "source": [
    "# 5. abs"
   ]
  },
  {
   "cell_type": "code",
   "execution_count": 6,
   "id": "a1538e69",
   "metadata": {
    "ExecuteTime": {
     "end_time": "2022-06-09T15:49:46.983210Z",
     "start_time": "2022-06-09T15:49:46.966329Z"
    }
   },
   "outputs": [
    {
     "data": {
      "text/plain": [
       "4"
      ]
     },
     "execution_count": 6,
     "metadata": {},
     "output_type": "execute_result"
    }
   ],
   "source": [
    "abs(-4)"
   ]
  },
  {
   "cell_type": "markdown",
   "id": "df4527f9",
   "metadata": {},
   "source": [
    "# 6. pow"
   ]
  },
  {
   "cell_type": "code",
   "execution_count": 8,
   "id": "496074e1",
   "metadata": {
    "ExecuteTime": {
     "end_time": "2022-06-09T15:50:08.566389Z",
     "start_time": "2022-06-09T15:50:08.548758Z"
    }
   },
   "outputs": [
    {
     "data": {
      "text/plain": [
       "0.125"
      ]
     },
     "execution_count": 8,
     "metadata": {},
     "output_type": "execute_result"
    }
   ],
   "source": [
    "pow(2,-3)"
   ]
  },
  {
   "cell_type": "markdown",
   "id": "60c1a9cc",
   "metadata": {},
   "source": [
    "# 7. min/max"
   ]
  },
  {
   "cell_type": "code",
   "execution_count": 9,
   "id": "e269ff96",
   "metadata": {
    "ExecuteTime": {
     "end_time": "2022-06-09T15:50:27.252124Z",
     "start_time": "2022-06-09T15:50:27.247246Z"
    }
   },
   "outputs": [
    {
     "data": {
      "text/plain": [
       "'a'"
      ]
     },
     "execution_count": 9,
     "metadata": {},
     "output_type": "execute_result"
    }
   ],
   "source": [
    "min(\"kolkata\")"
   ]
  },
  {
   "cell_type": "markdown",
   "id": "fb6bd738",
   "metadata": {},
   "source": [
    "# 8. round"
   ]
  },
  {
   "cell_type": "code",
   "execution_count": 10,
   "id": "a6b7acc8",
   "metadata": {
    "ExecuteTime": {
     "end_time": "2022-06-09T15:50:43.197075Z",
     "start_time": "2022-06-09T15:50:43.179960Z"
    }
   },
   "outputs": [
    {
     "data": {
      "text/plain": [
       "3"
      ]
     },
     "execution_count": 10,
     "metadata": {},
     "output_type": "execute_result"
    }
   ],
   "source": [
    "c = 22/7\n",
    "round(c)"
   ]
  },
  {
   "cell_type": "markdown",
   "id": "31c5443b",
   "metadata": {},
   "source": [
    "# 9. divmod"
   ]
  },
  {
   "cell_type": "code",
   "execution_count": 11,
   "id": "5fe9b692",
   "metadata": {
    "ExecuteTime": {
     "end_time": "2022-06-09T15:51:01.416376Z",
     "start_time": "2022-06-09T15:51:01.395469Z"
    }
   },
   "outputs": [
    {
     "data": {
      "text/plain": [
       "(2, 1)"
      ]
     },
     "execution_count": 11,
     "metadata": {},
     "output_type": "execute_result"
    }
   ],
   "source": [
    "divmod(5,2)"
   ]
  },
  {
   "cell_type": "markdown",
   "id": "efdae597",
   "metadata": {},
   "source": [
    "# 10. len"
   ]
  },
  {
   "cell_type": "code",
   "execution_count": 12,
   "id": "c966229d",
   "metadata": {
    "ExecuteTime": {
     "end_time": "2022-06-09T15:51:29.158248Z",
     "start_time": "2022-06-09T15:51:29.150255Z"
    }
   },
   "outputs": [
    {
     "data": {
      "text/plain": [
       "3"
      ]
     },
     "execution_count": 12,
     "metadata": {},
     "output_type": "execute_result"
    }
   ],
   "source": [
    "len([1,2,3])"
   ]
  },
  {
   "cell_type": "markdown",
   "id": "234bdb7e",
   "metadata": {},
   "source": [
    "# 11. sum"
   ]
  },
  {
   "cell_type": "code",
   "execution_count": 13,
   "id": "5fa7722f",
   "metadata": {
    "ExecuteTime": {
     "end_time": "2022-06-09T15:51:49.516298Z",
     "start_time": "2022-06-09T15:51:49.501669Z"
    }
   },
   "outputs": [
    {
     "data": {
      "text/plain": [
       "15"
      ]
     },
     "execution_count": 13,
     "metadata": {},
     "output_type": "execute_result"
    }
   ],
   "source": [
    "sum({1,2,3,4,5})"
   ]
  },
  {
   "cell_type": "markdown",
   "id": "89d82e88",
   "metadata": {},
   "source": [
    "# 12. help"
   ]
  },
  {
   "cell_type": "code",
   "execution_count": 14,
   "id": "930726b3",
   "metadata": {
    "ExecuteTime": {
     "end_time": "2022-06-09T15:52:11.474169Z",
     "start_time": "2022-06-09T15:52:11.456309Z"
    }
   },
   "outputs": [
    {
     "name": "stdout",
     "output_type": "stream",
     "text": [
      "Help on built-in function print in module builtins:\n",
      "\n",
      "print(...)\n",
      "    print(value, ..., sep=' ', end='\\n', file=sys.stdout, flush=False)\n",
      "    \n",
      "    Prints the values to a stream, or to sys.stdout by default.\n",
      "    Optional keyword arguments:\n",
      "    file:  a file-like object (stream); defaults to the current sys.stdout.\n",
      "    sep:   string inserted between values, default a space.\n",
      "    end:   string appended after the last value, default a newline.\n",
      "    flush: whether to forcibly flush the stream.\n",
      "\n"
     ]
    }
   ],
   "source": [
    "help('print')"
   ]
  },
  {
   "cell_type": "code",
   "execution_count": null,
   "id": "38838afa",
   "metadata": {},
   "outputs": [],
   "source": []
  }
 ],
 "metadata": {
  "kernelspec": {
   "display_name": "Python 3",
   "language": "python",
   "name": "python3"
  },
  "language_info": {
   "codemirror_mode": {
    "name": "ipython",
    "version": 3
   },
   "file_extension": ".py",
   "mimetype": "text/x-python",
   "name": "python",
   "nbconvert_exporter": "python",
   "pygments_lexer": "ipython3",
   "version": "3.8.8"
  }
 },
 "nbformat": 4,
 "nbformat_minor": 5
}
