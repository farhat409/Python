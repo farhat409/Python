{
 "cells": [
  {
   "cell_type": "markdown",
   "id": "e4295a13",
   "metadata": {},
   "source": [
    "# List"
   ]
  },
  {
   "cell_type": "markdown",
   "id": "81a19d6e",
   "metadata": {},
   "source": [
    "Lists are used to store multiple items in a single variable"
   ]
  },
  {
   "cell_type": "raw",
   "id": "b8d7df6f",
   "metadata": {
    "ExecuteTime": {
     "end_time": "2022-06-25T11:12:43.590022Z",
     "start_time": "2022-06-25T11:12:43.573414Z"
    }
   },
   "source": [
    "What is Diffrence between array and List???\n",
    "\n",
    "Array is Homogenous that means the data type inside array is same data type\n",
    "In List diffrent data types can store its a hetrogenous\n",
    "Arrys are much faster becuse in array data are one by OneDrive\n",
    "List are programer Frendly\n"
   ]
  },
  {
   "cell_type": "markdown",
   "id": "8d0b1077",
   "metadata": {},
   "source": [
    "How to create a Empty List?\n"
   ]
  },
  {
   "cell_type": "code",
   "execution_count": 2,
   "id": "9dd6643a",
   "metadata": {
    "ExecuteTime": {
     "end_time": "2022-06-25T11:13:30.953516Z",
     "start_time": "2022-06-25T11:13:30.944526Z"
    }
   },
   "outputs": [],
   "source": [
    "l = []# empty list"
   ]
  },
  {
   "cell_type": "code",
   "execution_count": 3,
   "id": "f54e0c75",
   "metadata": {
    "ExecuteTime": {
     "end_time": "2022-06-25T11:13:34.233485Z",
     "start_time": "2022-06-25T11:13:34.212592Z"
    }
   },
   "outputs": [
    {
     "data": {
      "text/plain": [
       "[]"
      ]
     },
     "execution_count": 3,
     "metadata": {},
     "output_type": "execute_result"
    }
   ],
   "source": [
    "l"
   ]
  },
  {
   "cell_type": "code",
   "execution_count": 4,
   "id": "cb75148b",
   "metadata": {
    "ExecuteTime": {
     "end_time": "2022-06-25T11:14:11.608290Z",
     "start_time": "2022-06-25T11:14:11.593535Z"
    }
   },
   "outputs": [
    {
     "data": {
      "text/plain": [
       "[1, 2, 3, 4, 5]"
      ]
     },
     "execution_count": 4,
     "metadata": {},
     "output_type": "execute_result"
    }
   ],
   "source": [
    "l1 = [1,2,3,4,5,]# homogenous list same data type\n",
    "l1"
   ]
  },
  {
   "cell_type": "code",
   "execution_count": 6,
   "id": "9e309476",
   "metadata": {
    "ExecuteTime": {
     "end_time": "2022-06-25T11:15:40.550077Z",
     "start_time": "2022-06-25T11:15:40.541853Z"
    }
   },
   "outputs": [
    {
     "data": {
      "text/plain": [
       "['hello', 4, 5.8, True, (4+8j)]"
      ]
     },
     "execution_count": 6,
     "metadata": {},
     "output_type": "execute_result"
    }
   ],
   "source": [
    "l2 = [\"hello\",4,5.8,True,4+8j] # hetrogenous List diffrent types of data types\n",
    "l2"
   ]
  },
  {
   "cell_type": "markdown",
   "id": "c9ec98f2",
   "metadata": {},
   "source": [
    "# MULTI Dimensional list"
   ]
  },
  {
   "cell_type": "markdown",
   "id": "295dac8e",
   "metadata": {},
   "source": [
    "2 d List"
   ]
  },
  {
   "cell_type": "code",
   "execution_count": 8,
   "id": "2bca47d1",
   "metadata": {
    "ExecuteTime": {
     "end_time": "2022-06-25T11:17:15.816529Z",
     "start_time": "2022-06-25T11:17:15.807553Z"
    }
   },
   "outputs": [
    {
     "data": {
      "text/plain": [
       "[2, 4, 5, [8, 9]]"
      ]
     },
     "execution_count": 8,
     "metadata": {},
     "output_type": "execute_result"
    }
   ],
   "source": [
    "l3 = [2,4,5,[8,9]]## list inside List\n",
    "l3"
   ]
  },
  {
   "cell_type": "markdown",
   "id": "dd56bbc2",
   "metadata": {},
   "source": [
    "3 d list"
   ]
  },
  {
   "cell_type": "code",
   "execution_count": 29,
   "id": "5b66f620",
   "metadata": {
    "ExecuteTime": {
     "end_time": "2022-06-25T11:30:48.301522Z",
     "start_time": "2022-06-25T11:30:48.295919Z"
    }
   },
   "outputs": [
    {
     "data": {
      "text/plain": [
       "[[[1, 2], [3, 4]], [[4, 5], [7, 9]]]"
      ]
     },
     "execution_count": 29,
     "metadata": {},
     "output_type": "execute_result"
    }
   ],
   "source": [
    "l4 = [[[1,2],[3,4]],[[4,5],[7,9]]]\n",
    "l4"
   ]
  },
  {
   "cell_type": "code",
   "execution_count": 10,
   "id": "31e6a3ba",
   "metadata": {
    "ExecuteTime": {
     "end_time": "2022-06-25T11:19:28.878967Z",
     "start_time": "2022-06-25T11:19:28.865825Z"
    }
   },
   "outputs": [],
   "source": [
    "l5 = list(\"hello\")# type conversion"
   ]
  },
  {
   "cell_type": "code",
   "execution_count": 11,
   "id": "0c8cfd82",
   "metadata": {
    "ExecuteTime": {
     "end_time": "2022-06-25T11:19:30.692352Z",
     "start_time": "2022-06-25T11:19:30.684155Z"
    }
   },
   "outputs": [
    {
     "data": {
      "text/plain": [
       "['h', 'e', 'l', 'l', 'o']"
      ]
     },
     "execution_count": 11,
     "metadata": {},
     "output_type": "execute_result"
    }
   ],
   "source": [
    "l5"
   ]
  },
  {
   "cell_type": "markdown",
   "id": "833fb1a2",
   "metadata": {},
   "source": [
    "# How to acess iteams from List???"
   ]
  },
  {
   "cell_type": "code",
   "execution_count": 12,
   "id": "d27522b2",
   "metadata": {
    "ExecuteTime": {
     "end_time": "2022-06-25T11:22:23.837083Z",
     "start_time": "2022-06-25T11:22:23.828664Z"
    }
   },
   "outputs": [
    {
     "data": {
      "text/plain": [
       "[1, 2, 3, 4, 5]"
      ]
     },
     "execution_count": 12,
     "metadata": {},
     "output_type": "execute_result"
    }
   ],
   "source": [
    "l1"
   ]
  },
  {
   "cell_type": "code",
   "execution_count": 14,
   "id": "202b4a4a",
   "metadata": {
    "ExecuteTime": {
     "end_time": "2022-06-25T11:22:42.744165Z",
     "start_time": "2022-06-25T11:22:42.737183Z"
    }
   },
   "outputs": [
    {
     "data": {
      "text/plain": [
       "1"
      ]
     },
     "execution_count": 14,
     "metadata": {},
     "output_type": "execute_result"
    }
   ],
   "source": [
    "l1[0]"
   ]
  },
  {
   "cell_type": "code",
   "execution_count": 15,
   "id": "f4fa6274",
   "metadata": {
    "ExecuteTime": {
     "end_time": "2022-06-25T11:22:48.064324Z",
     "start_time": "2022-06-25T11:22:48.046063Z"
    }
   },
   "outputs": [
    {
     "data": {
      "text/plain": [
       "['hello', 4, 5.8, True, (4+8j)]"
      ]
     },
     "execution_count": 15,
     "metadata": {},
     "output_type": "execute_result"
    }
   ],
   "source": [
    "l2"
   ]
  },
  {
   "cell_type": "code",
   "execution_count": 16,
   "id": "bad549d6",
   "metadata": {
    "ExecuteTime": {
     "end_time": "2022-06-25T11:23:01.834948Z",
     "start_time": "2022-06-25T11:23:01.815273Z"
    }
   },
   "outputs": [
    {
     "data": {
      "text/plain": [
       "['hello', 4, 5.8, True, (4+8j)]"
      ]
     },
     "execution_count": 16,
     "metadata": {},
     "output_type": "execute_result"
    }
   ],
   "source": [
    "l2[::1]"
   ]
  },
  {
   "cell_type": "code",
   "execution_count": 17,
   "id": "47b05f01",
   "metadata": {
    "ExecuteTime": {
     "end_time": "2022-06-25T11:23:16.184493Z",
     "start_time": "2022-06-25T11:23:16.168483Z"
    }
   },
   "outputs": [
    {
     "data": {
      "text/plain": [
       "[(4+8j), True, 5.8, 4, 'hello']"
      ]
     },
     "execution_count": 17,
     "metadata": {},
     "output_type": "execute_result"
    }
   ],
   "source": [
    "l2[::-1]"
   ]
  },
  {
   "cell_type": "code",
   "execution_count": 18,
   "id": "8ab2d87d",
   "metadata": {
    "ExecuteTime": {
     "end_time": "2022-06-25T11:23:19.489726Z",
     "start_time": "2022-06-25T11:23:19.479289Z"
    }
   },
   "outputs": [
    {
     "data": {
      "text/plain": [
       "[2, 4, 5, [8, 9]]"
      ]
     },
     "execution_count": 18,
     "metadata": {},
     "output_type": "execute_result"
    }
   ],
   "source": [
    "l3"
   ]
  },
  {
   "cell_type": "code",
   "execution_count": 21,
   "id": "daa4b31c",
   "metadata": {
    "ExecuteTime": {
     "end_time": "2022-06-25T11:24:31.514801Z",
     "start_time": "2022-06-25T11:24:31.503986Z"
    }
   },
   "outputs": [
    {
     "data": {
      "text/plain": [
       "[8, 9]"
      ]
     },
     "execution_count": 21,
     "metadata": {},
     "output_type": "execute_result"
    }
   ],
   "source": [
    "l3[3]"
   ]
  },
  {
   "cell_type": "code",
   "execution_count": 22,
   "id": "42575d93",
   "metadata": {
    "ExecuteTime": {
     "end_time": "2022-06-25T11:24:45.095801Z",
     "start_time": "2022-06-25T11:24:45.077816Z"
    }
   },
   "outputs": [],
   "source": [
    "x = l3[3]"
   ]
  },
  {
   "cell_type": "code",
   "execution_count": 23,
   "id": "d27970c5",
   "metadata": {
    "ExecuteTime": {
     "end_time": "2022-06-25T11:24:48.386868Z",
     "start_time": "2022-06-25T11:24:48.380847Z"
    }
   },
   "outputs": [
    {
     "data": {
      "text/plain": [
       "[8, 9]"
      ]
     },
     "execution_count": 23,
     "metadata": {},
     "output_type": "execute_result"
    }
   ],
   "source": [
    "x"
   ]
  },
  {
   "cell_type": "code",
   "execution_count": 24,
   "id": "5dbbab86",
   "metadata": {
    "ExecuteTime": {
     "end_time": "2022-06-25T11:24:58.429171Z",
     "start_time": "2022-06-25T11:24:58.420134Z"
    }
   },
   "outputs": [
    {
     "data": {
      "text/plain": [
       "8"
      ]
     },
     "execution_count": 24,
     "metadata": {},
     "output_type": "execute_result"
    }
   ],
   "source": [
    "x[0]"
   ]
  },
  {
   "cell_type": "code",
   "execution_count": 25,
   "id": "2cc4edc7",
   "metadata": {
    "ExecuteTime": {
     "end_time": "2022-06-25T11:25:05.885744Z",
     "start_time": "2022-06-25T11:25:05.877206Z"
    }
   },
   "outputs": [
    {
     "data": {
      "text/plain": [
       "9"
      ]
     },
     "execution_count": 25,
     "metadata": {},
     "output_type": "execute_result"
    }
   ],
   "source": [
    "x[1]"
   ]
  },
  {
   "cell_type": "raw",
   "id": "c2d21781",
   "metadata": {},
   "source": [
    "so here l3 is multidimensional list to access the inside list first sotre the inside list in some variable then we can access\n",
    "l3[3]--->x = l3[3]----->x[0] (explantion)\n",
    "l3[3][0]\n"
   ]
  },
  {
   "cell_type": "code",
   "execution_count": 26,
   "id": "11dd6214",
   "metadata": {
    "ExecuteTime": {
     "end_time": "2022-06-25T11:28:33.866365Z",
     "start_time": "2022-06-25T11:28:33.861381Z"
    }
   },
   "outputs": [
    {
     "data": {
      "text/plain": [
       "8"
      ]
     },
     "execution_count": 26,
     "metadata": {},
     "output_type": "execute_result"
    }
   ],
   "source": [
    "l3[3][0]"
   ]
  },
  {
   "cell_type": "code",
   "execution_count": 30,
   "id": "76648210",
   "metadata": {
    "ExecuteTime": {
     "end_time": "2022-06-25T11:30:54.278157Z",
     "start_time": "2022-06-25T11:30:54.267187Z"
    }
   },
   "outputs": [
    {
     "data": {
      "text/plain": [
       "[[[1, 2], [3, 4]], [[4, 5], [7, 9]]]"
      ]
     },
     "execution_count": 30,
     "metadata": {},
     "output_type": "execute_result"
    }
   ],
   "source": [
    "l4"
   ]
  },
  {
   "cell_type": "code",
   "execution_count": 34,
   "id": "4eb25e6b",
   "metadata": {
    "ExecuteTime": {
     "end_time": "2022-06-25T11:33:16.046991Z",
     "start_time": "2022-06-25T11:33:16.033802Z"
    }
   },
   "outputs": [
    {
     "data": {
      "text/plain": [
       "7"
      ]
     },
     "execution_count": 34,
     "metadata": {},
     "output_type": "execute_result"
    }
   ],
   "source": [
    "l4[1][1][0]"
   ]
  },
  {
   "cell_type": "markdown",
   "id": "71377902",
   "metadata": {},
   "source": [
    "# How to Edit items in LIST??"
   ]
  },
  {
   "cell_type": "markdown",
   "id": "79a51ae1",
   "metadata": {},
   "source": [
    "LIST in python are mutable we can change them "
   ]
  },
  {
   "cell_type": "code",
   "execution_count": 35,
   "id": "c468e02a",
   "metadata": {
    "ExecuteTime": {
     "end_time": "2022-06-25T11:36:48.685476Z",
     "start_time": "2022-06-25T11:36:48.675846Z"
    }
   },
   "outputs": [],
   "source": [
    "l1[-1]= 500"
   ]
  },
  {
   "cell_type": "code",
   "execution_count": 37,
   "id": "7c1ff796",
   "metadata": {
    "ExecuteTime": {
     "end_time": "2022-06-25T11:36:53.241786Z",
     "start_time": "2022-06-25T11:36:53.229782Z"
    }
   },
   "outputs": [
    {
     "data": {
      "text/plain": [
       "[1, 2, 3, 4, 500]"
      ]
     },
     "execution_count": 37,
     "metadata": {},
     "output_type": "execute_result"
    }
   ],
   "source": [
    "l1"
   ]
  },
  {
   "cell_type": "code",
   "execution_count": 38,
   "id": "a489f099",
   "metadata": {
    "ExecuteTime": {
     "end_time": "2022-06-25T11:37:05.287295Z",
     "start_time": "2022-06-25T11:37:05.280322Z"
    }
   },
   "outputs": [],
   "source": [
    "l1[2]= 5"
   ]
  },
  {
   "cell_type": "code",
   "execution_count": 39,
   "id": "37c9e443",
   "metadata": {
    "ExecuteTime": {
     "end_time": "2022-06-25T11:37:07.501225Z",
     "start_time": "2022-06-25T11:37:07.483211Z"
    }
   },
   "outputs": [
    {
     "data": {
      "text/plain": [
       "[1, 2, 5, 4, 500]"
      ]
     },
     "execution_count": 39,
     "metadata": {},
     "output_type": "execute_result"
    }
   ],
   "source": [
    "l1"
   ]
  },
  {
   "cell_type": "markdown",
   "id": "6a5b87f2",
   "metadata": {},
   "source": [
    "# How to Add items in LIST??"
   ]
  },
  {
   "cell_type": "code",
   "execution_count": 40,
   "id": "a2007fd0",
   "metadata": {
    "ExecuteTime": {
     "end_time": "2022-06-26T12:34:22.848084Z",
     "start_time": "2022-06-26T12:34:22.840072Z"
    }
   },
   "outputs": [],
   "source": [
    "l1.append(1000)## Append id used to Add itemas in List"
   ]
  },
  {
   "cell_type": "code",
   "execution_count": 41,
   "id": "1ddb1f05",
   "metadata": {
    "ExecuteTime": {
     "end_time": "2022-06-26T12:34:25.130930Z",
     "start_time": "2022-06-26T12:34:25.116634Z"
    }
   },
   "outputs": [
    {
     "data": {
      "text/plain": [
       "[1, 2, 5, 4, 500, 1000]"
      ]
     },
     "execution_count": 41,
     "metadata": {},
     "output_type": "execute_result"
    }
   ],
   "source": [
    "l1"
   ]
  },
  {
   "cell_type": "code",
   "execution_count": 44,
   "id": "c1e1b03a",
   "metadata": {
    "ExecuteTime": {
     "end_time": "2022-06-26T12:36:55.067308Z",
     "start_time": "2022-06-26T12:36:55.048129Z"
    }
   },
   "outputs": [
    {
     "data": {
      "text/plain": [
       "[1, 2, 5, 4, 500, 1000, [10, 13, 14, 15], 10, 13, 14, 15]"
      ]
     },
     "execution_count": 44,
     "metadata": {},
     "output_type": "execute_result"
    }
   ],
   "source": [
    "l1.extend([10,13,14,15])## Extend is used to add multiple items in list\n",
    "l1"
   ]
  },
  {
   "cell_type": "code",
   "execution_count": 48,
   "id": "89766368",
   "metadata": {
    "ExecuteTime": {
     "end_time": "2022-06-26T12:39:19.091397Z",
     "start_time": "2022-06-26T12:39:19.085227Z"
    }
   },
   "outputs": [
    {
     "data": {
      "text/plain": [
       "[1,\n",
       " 2,\n",
       " 5,\n",
       " 4,\n",
       " 500,\n",
       " 1000,\n",
       " [10, 13, 14, 15],\n",
       " 10,\n",
       " 13,\n",
       " 14,\n",
       " 15,\n",
       " 'delhi',\n",
       " 'd',\n",
       " 'e',\n",
       " 'l',\n",
       " 'h',\n",
       " 'i']"
      ]
     },
     "execution_count": 48,
     "metadata": {},
     "output_type": "execute_result"
    }
   ],
   "source": [
    "l1.extend(\"delhi\")\n",
    "l1"
   ]
  },
  {
   "cell_type": "code",
   "execution_count": 50,
   "id": "29394d12",
   "metadata": {
    "ExecuteTime": {
     "end_time": "2022-06-26T12:40:52.536404Z",
     "start_time": "2022-06-26T12:40:52.527049Z"
    }
   },
   "outputs": [
    {
     "data": {
      "text/plain": [
       "[1,\n",
       " 'world',\n",
       " 2,\n",
       " 5,\n",
       " 4,\n",
       " 500,\n",
       " 1000,\n",
       " [10, 13, 14, 15],\n",
       " 10,\n",
       " 13,\n",
       " 14,\n",
       " 15,\n",
       " 'delhi',\n",
       " 'd',\n",
       " 'e',\n",
       " 'l',\n",
       " 'h',\n",
       " 'i']"
      ]
     },
     "execution_count": 50,
     "metadata": {},
     "output_type": "execute_result"
    }
   ],
   "source": [
    "l1.insert(1,\"world\")## Inset is used to insert a iteam on a desire position (insert (index postion.\"what you want to add\"))\n",
    "l1"
   ]
  },
  {
   "cell_type": "markdown",
   "id": "6114ed04",
   "metadata": {},
   "source": [
    "# How to Delet in LIST??"
   ]
  },
  {
   "cell_type": "raw",
   "id": "e59aa96a",
   "metadata": {},
   "source": [
    "There are four ways to delet items in list\n",
    "1. del\n",
    "2. remove\n",
    "3.pop\n",
    "4.clear"
   ]
  },
  {
   "cell_type": "code",
   "execution_count": 51,
   "id": "328d2c8a",
   "metadata": {
    "ExecuteTime": {
     "end_time": "2022-06-26T12:45:21.527731Z",
     "start_time": "2022-06-26T12:45:21.512614Z"
    }
   },
   "outputs": [],
   "source": [
    "del l2## del delet the entire list here"
   ]
  },
  {
   "cell_type": "code",
   "execution_count": 52,
   "id": "f6b1f430",
   "metadata": {
    "ExecuteTime": {
     "end_time": "2022-06-26T12:45:23.794307Z",
     "start_time": "2022-06-26T12:45:23.777991Z"
    }
   },
   "outputs": [
    {
     "ename": "NameError",
     "evalue": "name 'l2' is not defined",
     "output_type": "error",
     "traceback": [
      "\u001b[1;31m---------------------------------------------------------------------------\u001b[0m",
      "\u001b[1;31mNameError\u001b[0m                                 Traceback (most recent call last)",
      "\u001b[1;32m<ipython-input-52-ea320d2ace30>\u001b[0m in \u001b[0;36m<module>\u001b[1;34m\u001b[0m\n\u001b[1;32m----> 1\u001b[1;33m \u001b[0ml2\u001b[0m\u001b[1;33m\u001b[0m\u001b[1;33m\u001b[0m\u001b[0m\n\u001b[0m",
      "\u001b[1;31mNameError\u001b[0m: name 'l2' is not defined"
     ]
    }
   ],
   "source": [
    "l2"
   ]
  },
  {
   "cell_type": "code",
   "execution_count": 53,
   "id": "ec84037f",
   "metadata": {
    "ExecuteTime": {
     "end_time": "2022-06-26T12:45:49.590760Z",
     "start_time": "2022-06-26T12:45:49.582616Z"
    }
   },
   "outputs": [
    {
     "data": {
      "text/plain": [
       "[1,\n",
       " 'world',\n",
       " 2,\n",
       " 5,\n",
       " 4,\n",
       " 500,\n",
       " 1000,\n",
       " [10, 13, 14, 15],\n",
       " 10,\n",
       " 13,\n",
       " 14,\n",
       " 15,\n",
       " 'delhi',\n",
       " 'd',\n",
       " 'e',\n",
       " 'l',\n",
       " 'h',\n",
       " 'i']"
      ]
     },
     "execution_count": 53,
     "metadata": {},
     "output_type": "execute_result"
    }
   ],
   "source": [
    "l1"
   ]
  },
  {
   "cell_type": "code",
   "execution_count": 54,
   "id": "9d42897d",
   "metadata": {
    "ExecuteTime": {
     "end_time": "2022-06-26T12:46:14.728388Z",
     "start_time": "2022-06-26T12:46:14.724368Z"
    }
   },
   "outputs": [],
   "source": [
    "del l1[5]"
   ]
  },
  {
   "cell_type": "code",
   "execution_count": 55,
   "id": "f8f11e7c",
   "metadata": {
    "ExecuteTime": {
     "end_time": "2022-06-26T12:46:17.128815Z",
     "start_time": "2022-06-26T12:46:17.108161Z"
    }
   },
   "outputs": [
    {
     "data": {
      "text/plain": [
       "[1,\n",
       " 'world',\n",
       " 2,\n",
       " 5,\n",
       " 4,\n",
       " 1000,\n",
       " [10, 13, 14, 15],\n",
       " 10,\n",
       " 13,\n",
       " 14,\n",
       " 15,\n",
       " 'delhi',\n",
       " 'd',\n",
       " 'e',\n",
       " 'l',\n",
       " 'h',\n",
       " 'i']"
      ]
     },
     "execution_count": 55,
     "metadata": {},
     "output_type": "execute_result"
    }
   ],
   "source": [
    "l1"
   ]
  },
  {
   "cell_type": "code",
   "execution_count": 56,
   "id": "307482e0",
   "metadata": {
    "ExecuteTime": {
     "end_time": "2022-06-26T12:47:20.078937Z",
     "start_time": "2022-06-26T12:47:20.066274Z"
    }
   },
   "outputs": [],
   "source": [
    "l1.remove(\"delhi\")## remove is used when we dont know the index postion of iteam"
   ]
  },
  {
   "cell_type": "code",
   "execution_count": 57,
   "id": "3cee5c81",
   "metadata": {
    "ExecuteTime": {
     "end_time": "2022-06-26T12:47:21.494625Z",
     "start_time": "2022-06-26T12:47:21.482575Z"
    }
   },
   "outputs": [
    {
     "data": {
      "text/plain": [
       "[1,\n",
       " 'world',\n",
       " 2,\n",
       " 5,\n",
       " 4,\n",
       " 1000,\n",
       " [10, 13, 14, 15],\n",
       " 10,\n",
       " 13,\n",
       " 14,\n",
       " 15,\n",
       " 'd',\n",
       " 'e',\n",
       " 'l',\n",
       " 'h',\n",
       " 'i']"
      ]
     },
     "execution_count": 57,
     "metadata": {},
     "output_type": "execute_result"
    }
   ],
   "source": [
    "l1"
   ]
  },
  {
   "cell_type": "code",
   "execution_count": 59,
   "id": "f1992e73",
   "metadata": {
    "ExecuteTime": {
     "end_time": "2022-06-26T12:48:46.663037Z",
     "start_time": "2022-06-26T12:48:46.655004Z"
    }
   },
   "outputs": [
    {
     "data": {
      "text/plain": [
       "'h'"
      ]
     },
     "execution_count": 59,
     "metadata": {},
     "output_type": "execute_result"
    }
   ],
   "source": [
    "l1.pop()## pop is used to remove always last number\n"
   ]
  },
  {
   "cell_type": "code",
   "execution_count": 60,
   "id": "c8c54c45",
   "metadata": {
    "ExecuteTime": {
     "end_time": "2022-06-26T12:49:15.965801Z",
     "start_time": "2022-06-26T12:49:15.947650Z"
    }
   },
   "outputs": [],
   "source": [
    "l1.clear()## clear is used to empty the list it wont delet the list but delet the item from the list"
   ]
  },
  {
   "cell_type": "code",
   "execution_count": 61,
   "id": "5ae6e6c3",
   "metadata": {
    "ExecuteTime": {
     "end_time": "2022-06-26T12:49:17.902678Z",
     "start_time": "2022-06-26T12:49:17.895696Z"
    }
   },
   "outputs": [
    {
     "data": {
      "text/plain": [
       "[]"
      ]
     },
     "execution_count": 61,
     "metadata": {},
     "output_type": "execute_result"
    }
   ],
   "source": [
    "l1"
   ]
  },
  {
   "cell_type": "markdown",
   "id": "2d8b0c2c",
   "metadata": {},
   "source": [
    "# what are the operations are present in list???"
   ]
  },
  {
   "cell_type": "code",
   "execution_count": 62,
   "id": "dc297b2f",
   "metadata": {
    "ExecuteTime": {
     "end_time": "2022-06-26T12:53:48.213453Z",
     "start_time": "2022-06-26T12:53:48.195716Z"
    }
   },
   "outputs": [
    {
     "data": {
      "text/plain": [
       "[2, 4, 5, [8, 9]]"
      ]
     },
     "execution_count": 62,
     "metadata": {},
     "output_type": "execute_result"
    }
   ],
   "source": [
    "l1+l3"
   ]
  },
  {
   "cell_type": "markdown",
   "id": "837e66d3",
   "metadata": {},
   "source": [
    "we can do additon and multuiplications in list even we can do loop in list"
   ]
  },
  {
   "cell_type": "code",
   "execution_count": 67,
   "id": "e42cd118",
   "metadata": {
    "ExecuteTime": {
     "end_time": "2022-06-26T12:56:09.820067Z",
     "start_time": "2022-06-26T12:56:09.805805Z"
    }
   },
   "outputs": [
    {
     "data": {
      "text/plain": [
       "[]"
      ]
     },
     "execution_count": 67,
     "metadata": {},
     "output_type": "execute_result"
    }
   ],
   "source": [
    "l1"
   ]
  },
  {
   "cell_type": "code",
   "execution_count": 68,
   "id": "2e0400d1",
   "metadata": {
    "ExecuteTime": {
     "end_time": "2022-06-26T12:56:31.570481Z",
     "start_time": "2022-06-26T12:56:31.554344Z"
    }
   },
   "outputs": [
    {
     "name": "stdout",
     "output_type": "stream",
     "text": [
      "2\n",
      "4\n",
      "5\n",
      "[8, 9]\n"
     ]
    }
   ],
   "source": [
    "for i in l3: ## here it will print 4 items because ([8,9]) is list \n",
    "    print(i)"
   ]
  },
  {
   "cell_type": "code",
   "execution_count": 69,
   "id": "4ac2b3ad",
   "metadata": {
    "ExecuteTime": {
     "end_time": "2022-06-26T12:57:49.031127Z",
     "start_time": "2022-06-26T12:57:49.023148Z"
    }
   },
   "outputs": [
    {
     "data": {
      "text/plain": [
       "True"
      ]
     },
     "execution_count": 69,
     "metadata": {},
     "output_type": "execute_result"
    }
   ],
   "source": [
    "##Member ship operator\n",
    "\n",
    "4 in l3\n"
   ]
  },
  {
   "cell_type": "code",
   "execution_count": 70,
   "id": "c269a06d",
   "metadata": {
    "ExecuteTime": {
     "end_time": "2022-06-26T12:58:56.653202Z",
     "start_time": "2022-06-26T12:58:56.639800Z"
    }
   },
   "outputs": [
    {
     "data": {
      "text/plain": [
       "False"
      ]
     },
     "execution_count": 70,
     "metadata": {},
     "output_type": "execute_result"
    }
   ],
   "source": [
    "9 in l3"
   ]
  },
  {
   "cell_type": "code",
   "execution_count": 71,
   "id": "13362b6a",
   "metadata": {
    "ExecuteTime": {
     "end_time": "2022-06-26T12:59:44.191017Z",
     "start_time": "2022-06-26T12:59:44.176144Z"
    }
   },
   "outputs": [
    {
     "data": {
      "text/plain": [
       "4"
      ]
     },
     "execution_count": 71,
     "metadata": {},
     "output_type": "execute_result"
    }
   ],
   "source": [
    "##function\n",
    "\n",
    "len(l3)"
   ]
  },
  {
   "cell_type": "code",
   "execution_count": 75,
   "id": "686d6064",
   "metadata": {
    "ExecuteTime": {
     "end_time": "2022-06-26T13:00:35.076193Z",
     "start_time": "2022-06-26T13:00:35.066111Z"
    }
   },
   "outputs": [],
   "source": [
    "l4 = [1,2,3,4,56]"
   ]
  },
  {
   "cell_type": "code",
   "execution_count": 76,
   "id": "b0839a19",
   "metadata": {
    "ExecuteTime": {
     "end_time": "2022-06-26T13:00:41.026969Z",
     "start_time": "2022-06-26T13:00:41.008565Z"
    }
   },
   "outputs": [
    {
     "data": {
      "text/plain": [
       "1"
      ]
     },
     "execution_count": 76,
     "metadata": {},
     "output_type": "execute_result"
    }
   ],
   "source": [
    "min(l4)"
   ]
  },
  {
   "cell_type": "code",
   "execution_count": 77,
   "id": "dcbd7238",
   "metadata": {
    "ExecuteTime": {
     "end_time": "2022-06-26T13:00:48.171890Z",
     "start_time": "2022-06-26T13:00:48.156774Z"
    }
   },
   "outputs": [
    {
     "data": {
      "text/plain": [
       "56"
      ]
     },
     "execution_count": 77,
     "metadata": {},
     "output_type": "execute_result"
    }
   ],
   "source": [
    "max(l4)"
   ]
  },
  {
   "cell_type": "code",
   "execution_count": 78,
   "id": "49fee8e5",
   "metadata": {
    "ExecuteTime": {
     "end_time": "2022-06-26T13:01:11.876705Z",
     "start_time": "2022-06-26T13:01:11.862746Z"
    }
   },
   "outputs": [
    {
     "data": {
      "text/plain": [
       "[1, 2, 3, 4, 56]"
      ]
     },
     "execution_count": 78,
     "metadata": {},
     "output_type": "execute_result"
    }
   ],
   "source": [
    "sorted(l4) ##sorted will creat a new list but sort will make changes in orignal list this is the mail diffrence in sorted and sor\n"
   ]
  },
  {
   "cell_type": "code",
   "execution_count": 82,
   "id": "632aafae",
   "metadata": {
    "ExecuteTime": {
     "end_time": "2022-06-26T13:01:48.559694Z",
     "start_time": "2022-06-26T13:01:48.550470Z"
    }
   },
   "outputs": [
    {
     "data": {
      "text/plain": [
       "[1, 2, 3, 4, 56]"
      ]
     },
     "execution_count": 82,
     "metadata": {},
     "output_type": "execute_result"
    }
   ],
   "source": [
    "l4.sort()\n",
    "l4"
   ]
  },
  {
   "cell_type": "markdown",
   "id": "af4d70c2",
   "metadata": {},
   "source": [
    "@@@... one string is there \"hello how are you\" input String my output should be \"Hello How Are You\"\n",
    "\n",
    "\n"
   ]
  },
  {
   "cell_type": "code",
   "execution_count": 99,
   "id": "7c136be9",
   "metadata": {
    "ExecuteTime": {
     "end_time": "2022-06-26T13:22:28.749342Z",
     "start_time": "2022-06-26T13:22:28.742396Z"
    }
   },
   "outputs": [
    {
     "name": "stdout",
     "output_type": "stream",
     "text": [
      "['hello', 'how', 'are', 'you']\n",
      "Hello How Are You\n"
     ]
    }
   ],
   "source": [
    "sample = \"hello how are you\"## First we are giving the input\n",
    "print(sample.split())## then we are spliting that in List\n",
    "\n",
    "l = []## creating one empty list to store the value\n",
    "for i in sample.split():## here we are running loop on sample.split \n",
    "    #print(i.capitalize())## making capital letter of each word\n",
    "    l.append(i.capitalize())\n",
    "    ##print(l)\n",
    "print(\" \".join(l)) "
   ]
  },
  {
   "cell_type": "raw",
   "id": "c4d0d6e4",
   "metadata": {},
   "source": [
    "Q2 abc@gmail.com\n",
    "\n",
    "ger the letter before @\n"
   ]
  },
  {
   "cell_type": "code",
   "execution_count": 102,
   "id": "a9825e19",
   "metadata": {
    "ExecuteTime": {
     "end_time": "2022-06-26T13:26:47.439750Z",
     "start_time": "2022-06-26T13:26:47.432875Z"
    }
   },
   "outputs": [
    {
     "name": "stdout",
     "output_type": "stream",
     "text": [
      "abc\n"
     ]
    }
   ],
   "source": [
    "sample = \"abc@gmail.com\"\n",
    "print(sample[:sample.find(\"@\")])"
   ]
  },
  {
   "cell_type": "code",
   "execution_count": 107,
   "id": "462a3693",
   "metadata": {
    "ExecuteTime": {
     "end_time": "2022-06-26T13:35:55.856996Z",
     "start_time": "2022-06-26T13:35:55.840830Z"
    }
   },
   "outputs": [
    {
     "name": "stdout",
     "output_type": "stream",
     "text": [
      "[1, 2, 3, 4, 5, 6]\n"
     ]
    }
   ],
   "source": [
    "l1 = [1,1,2,2,2,3,3,4,4,4,5,6,6]## to print only unique items from list\n",
    "l = []\n",
    "for i in l1:\n",
    "    if i not in l:\n",
    "        l.append(i)\n",
    "print(l)"
   ]
  },
  {
   "cell_type": "code",
   "execution_count": null,
   "id": "79de9388",
   "metadata": {},
   "outputs": [],
   "source": []
  }
 ],
 "metadata": {
  "kernelspec": {
   "display_name": "Python 3",
   "language": "python",
   "name": "python3"
  },
  "language_info": {
   "codemirror_mode": {
    "name": "ipython",
    "version": 3
   },
   "file_extension": ".py",
   "mimetype": "text/x-python",
   "name": "python",
   "nbconvert_exporter": "python",
   "pygments_lexer": "ipython3",
   "version": "3.8.8"
  }
 },
 "nbformat": 4,
 "nbformat_minor": 5
}
