{
 "cells": [
  {
   "cell_type": "markdown",
   "id": "696bbf68",
   "metadata": {},
   "source": [
    "# Variables"
   ]
  },
  {
   "cell_type": "raw",
   "id": "cd568bbc",
   "metadata": {
    "ExecuteTime": {
     "end_time": "2022-05-07T06:43:34.350093Z",
     "start_time": "2022-05-07T06:43:34.336887Z"
    }
   },
   "source": [
    "# Varibales are containers for future use. \n",
    "#Variables are used to store data, they take memory space based on the type of value we assigning to them.\n"
   ]
  },
  {
   "cell_type": "code",
   "execution_count": 2,
   "id": "2a1ec1ec",
   "metadata": {
    "ExecuteTime": {
     "end_time": "2022-05-07T06:48:04.238326Z",
     "start_time": "2022-05-07T06:48:04.227426Z"
    }
   },
   "outputs": [],
   "source": [
    "name = \"farhat\""
   ]
  },
  {
   "cell_type": "code",
   "execution_count": 3,
   "id": "cf467a61",
   "metadata": {
    "ExecuteTime": {
     "end_time": "2022-05-07T06:48:16.839246Z",
     "start_time": "2022-05-07T06:48:16.828020Z"
    },
    "scrolled": true
   },
   "outputs": [
    {
     "name": "stdout",
     "output_type": "stream",
     "text": [
      "farhat\n"
     ]
    }
   ],
   "source": [
    "print(name)"
   ]
  },
  {
   "cell_type": "code",
   "execution_count": 4,
   "id": "d0124d72",
   "metadata": {
    "ExecuteTime": {
     "end_time": "2022-05-07T06:48:25.740209Z",
     "start_time": "2022-05-07T06:48:25.520629Z"
    }
   },
   "outputs": [
    {
     "ename": "NameError",
     "evalue": "name 'farhat' is not defined",
     "output_type": "error",
     "traceback": [
      "\u001b[1;31m---------------------------------------------------------------------------\u001b[0m",
      "\u001b[1;31mNameError\u001b[0m                                 Traceback (most recent call last)",
      "\u001b[1;32m<ipython-input-4-303155037e37>\u001b[0m in \u001b[0;36m<module>\u001b[1;34m\u001b[0m\n\u001b[1;32m----> 1\u001b[1;33m \u001b[0mname\u001b[0m \u001b[1;33m=\u001b[0m \u001b[0mfarhat\u001b[0m\u001b[1;33m\u001b[0m\u001b[1;33m\u001b[0m\u001b[0m\n\u001b[0m",
      "\u001b[1;31mNameError\u001b[0m: name 'farhat' is not defined"
     ]
    }
   ],
   "source": [
    "name = farhat# throw error name 'farhat' is not defined"
   ]
  },
  {
   "cell_type": "code",
   "execution_count": 5,
   "id": "0bb1c1a5",
   "metadata": {
    "ExecuteTime": {
     "end_time": "2022-05-07T06:48:57.175932Z",
     "start_time": "2022-05-07T06:48:57.163990Z"
    }
   },
   "outputs": [
    {
     "name": "stdout",
     "output_type": "stream",
     "text": [
      "Hello world\n"
     ]
    }
   ],
   "source": [
    "name = ('Hello world')\n",
    "print(name)"
   ]
  },
  {
   "cell_type": "markdown",
   "id": "3bdabd8a",
   "metadata": {},
   "source": [
    "# Dynamic Typing\n",
    "# Static typing"
   ]
  },
  {
   "cell_type": "code",
   "execution_count": 6,
   "id": "a17b95a0",
   "metadata": {
    "ExecuteTime": {
     "end_time": "2022-05-07T06:49:23.349545Z",
     "start_time": "2022-05-07T06:49:23.331638Z"
    }
   },
   "outputs": [],
   "source": [
    "#no variable declrations"
   ]
  },
  {
   "cell_type": "raw",
   "id": "b291a66d",
   "metadata": {},
   "source": [
    "when we are creating variable in Python its Automatically understand the data type of that variable is Called DYNAMIC TYPING (Python is Having dynamic typing)"
   ]
  },
  {
   "cell_type": "raw",
   "id": "a79552b0",
   "metadata": {},
   "source": [
    "when we need to define the data type is called Static typing"
   ]
  },
  {
   "cell_type": "markdown",
   "id": "880a49f9",
   "metadata": {},
   "source": [
    "# Dynamic Binding"
   ]
  },
  {
   "cell_type": "markdown",
   "id": "76e70814",
   "metadata": {},
   "source": [
    "Dynamic Binding means python can store diffrent data types for the varaible...data types can change its not fixed\n",
    "when a variable can store multiple data types"
   ]
  },
  {
   "cell_type": "code",
   "execution_count": 7,
   "id": "f517a2be",
   "metadata": {
    "ExecuteTime": {
     "end_time": "2022-05-07T06:57:25.517060Z",
     "start_time": "2022-05-07T06:57:25.501135Z"
    }
   },
   "outputs": [
    {
     "name": "stdout",
     "output_type": "stream",
     "text": [
      "Hello world\n"
     ]
    }
   ],
   "source": [
    "print(name)"
   ]
  },
  {
   "cell_type": "code",
   "execution_count": 8,
   "id": "a5e1df50",
   "metadata": {
    "ExecuteTime": {
     "end_time": "2022-05-07T06:57:32.490644Z",
     "start_time": "2022-05-07T06:57:32.483343Z"
    }
   },
   "outputs": [
    {
     "name": "stdout",
     "output_type": "stream",
     "text": [
      "4\n"
     ]
    }
   ],
   "source": [
    "name = 4\n",
    "print(name)"
   ]
  },
  {
   "cell_type": "code",
   "execution_count": 9,
   "id": "331ad9f4",
   "metadata": {
    "ExecuteTime": {
     "end_time": "2022-05-07T06:57:37.974446Z",
     "start_time": "2022-05-07T06:57:37.969576Z"
    }
   },
   "outputs": [
    {
     "name": "stdout",
     "output_type": "stream",
     "text": [
      "True\n"
     ]
    }
   ],
   "source": [
    "name = True\n",
    "print(name)"
   ]
  },
  {
   "cell_type": "markdown",
   "id": "4f50fa37",
   "metadata": {},
   "source": [
    "# Static Bindning"
   ]
  },
  {
   "cell_type": "markdown",
   "id": "b172aa4c",
   "metadata": {},
   "source": [
    "Once the data type of variable is defined it cannot be change thoroughout the life of program\n",
    "it cannot be change"
   ]
  },
  {
   "cell_type": "markdown",
   "id": "66b12252",
   "metadata": {},
   "source": [
    "# special syntax"
   ]
  },
  {
   "cell_type": "code",
   "execution_count": 10,
   "id": "052dc610",
   "metadata": {
    "ExecuteTime": {
     "end_time": "2022-05-07T07:01:46.059411Z",
     "start_time": "2022-05-07T07:01:46.051326Z"
    }
   },
   "outputs": [
    {
     "name": "stdout",
     "output_type": "stream",
     "text": [
      "5\n",
      "6\n",
      "7\n"
     ]
    }
   ],
   "source": [
    "\n",
    "a = 5;b=6;c=7\n",
    "print(a)\n",
    "print(b)\n",
    "print(c)"
   ]
  },
  {
   "cell_type": "code",
   "execution_count": 11,
   "id": "9b2db82f",
   "metadata": {
    "ExecuteTime": {
     "end_time": "2022-05-07T07:01:54.667953Z",
     "start_time": "2022-05-07T07:01:54.660973Z"
    }
   },
   "outputs": [
    {
     "name": "stdout",
     "output_type": "stream",
     "text": [
      "4\n",
      "5\n",
      "6\n"
     ]
    }
   ],
   "source": [
    "a,b,c = 4,5,6\n",
    "print(a)\n",
    "print(b)\n",
    "print(c)"
   ]
  },
  {
   "cell_type": "code",
   "execution_count": 12,
   "id": "b4515f38",
   "metadata": {
    "ExecuteTime": {
     "end_time": "2022-05-07T07:01:59.053846Z",
     "start_time": "2022-05-07T07:01:59.045829Z"
    }
   },
   "outputs": [
    {
     "name": "stdout",
     "output_type": "stream",
     "text": [
      "6\n",
      "6\n",
      "6\n"
     ]
    }
   ],
   "source": [
    "a = b =c =6\n",
    "print(a)\n",
    "print(b)\n",
    "print(c)"
   ]
  },
  {
   "cell_type": "code",
   "execution_count": null,
   "id": "e113af5e",
   "metadata": {},
   "outputs": [],
   "source": []
  }
 ],
 "metadata": {
  "kernelspec": {
   "display_name": "Python 3",
   "language": "python",
   "name": "python3"
  },
  "language_info": {
   "codemirror_mode": {
    "name": "ipython",
    "version": 3
   },
   "file_extension": ".py",
   "mimetype": "text/x-python",
   "name": "python",
   "nbconvert_exporter": "python",
   "pygments_lexer": "ipython3",
   "version": "3.8.8"
  }
 },
 "nbformat": 4,
 "nbformat_minor": 5
}
